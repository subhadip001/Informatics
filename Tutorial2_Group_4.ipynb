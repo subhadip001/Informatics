{
 "cells": [
  {
   "cell_type": "markdown",
   "metadata": {
    "id": "3sTjzA9xMkbc"
   },
   "source": [
    "# Material Informatics(MTN-316)\n",
    "## Tutorial - 2(G-4)\n",
    "### Name : Subhadip Mandal , Harsh Raj Bharti , Sorra Sai Teja\n",
    "### Enrollment No : 20118091 , 20118034 , 20118089"
   ]
  },
  {
   "cell_type": "markdown",
   "metadata": {
    "id": "CZ4efrp0rAYJ"
   },
   "source": [
    "## Q1"
   ]
  },
  {
   "cell_type": "code",
   "execution_count": 1,
   "metadata": {
    "id": "F2Nb1x9TrAYJ"
   },
   "outputs": [],
   "source": [
    "import numpy as np\n",
    "import pandas as pd\n",
    "import matplotlib.pyplot as plt\n",
    "%matplotlib inline\n",
    "import seaborn as sns\n",
    "from sklearn import preprocessing\n",
    "from sklearn.preprocessing import StandardScaler, MinMaxScaler\n",
    "from pymatgen.ext.matproj import MPRester"
   ]
  },
  {
   "cell_type": "code",
   "execution_count": 2,
   "metadata": {
    "id": "W59KPfJfP8tG"
   },
   "outputs": [],
   "source": [
    "API = 'joqsp2fB8lGkkSOQQDK'\n",
    "mpr  = MPRester(API)"
   ]
  },
  {
   "cell_type": "code",
   "execution_count": 3,
   "metadata": {
    "id": "empiXaBQRRp_"
   },
   "outputs": [],
   "source": [
    "criteria = {'chemsys':{\"$in\":['B-O','Al-O','Ga-O','In-O','Tl-O','B-Al-O','B-Ga-O','B-In-O','B-Tl-O','Al-Ga-O','Al-In-O','Al-Tl-O','Ga-In-O','Ga-Tl-O','In-Tl-O']}}\n",
    "props = ['pretty_formula','structure.lattice','density','formation_energy_per_atom','e_above_hull','band_gap']\n",
    "entries = mpr.query(criteria=criteria,properties=props)"
   ]
  },
  {
   "cell_type": "code",
   "execution_count": 4,
   "metadata": {
    "id": "i_Cp3POoXIyv"
   },
   "outputs": [],
   "source": [
    "df = pd.DataFrame(entries)\n",
    "df['a'] = df['structure.lattice'].apply(lambda x:x['a'])\n",
    "df['b'] = df['structure.lattice'].apply(lambda x:x['b'])\n",
    "df['c'] = df['structure.lattice'].apply(lambda x:x['c'])\n",
    "df['alpha'] = df['structure.lattice'].apply(lambda x:x['alpha'])\n",
    "df['beta'] = df['structure.lattice'].apply(lambda x:x['beta'])\n",
    "df['gamma'] = df['structure.lattice'].apply(lambda x:x['gamma'])\n",
    "df.drop('structure.lattice',inplace=True,axis=1)"
   ]
  },
  {
   "cell_type": "code",
   "execution_count": 5,
   "metadata": {
    "colab": {
     "base_uri": "https://localhost:8080/",
     "height": 206
    },
    "id": "u7V2ZxKIYdU6",
    "outputId": "f8420546-a00d-4f7a-c5b5-a3010c50d462"
   },
   "outputs": [
    {
     "data": {
      "text/html": [
       "\n",
       "  <div id=\"df-e57cee2e-3200-4b5e-81b3-3531327c3288\">\n",
       "    <div class=\"colab-df-container\">\n",
       "      <div>\n",
       "<style scoped>\n",
       "    .dataframe tbody tr th:only-of-type {\n",
       "        vertical-align: middle;\n",
       "    }\n",
       "\n",
       "    .dataframe tbody tr th {\n",
       "        vertical-align: top;\n",
       "    }\n",
       "\n",
       "    .dataframe thead th {\n",
       "        text-align: right;\n",
       "    }\n",
       "</style>\n",
       "<table border=\"1\" class=\"dataframe\">\n",
       "  <thead>\n",
       "    <tr style=\"text-align: right;\">\n",
       "      <th></th>\n",
       "      <th>pretty_formula</th>\n",
       "      <th>density</th>\n",
       "      <th>formation_energy_per_atom</th>\n",
       "      <th>e_above_hull</th>\n",
       "      <th>band_gap</th>\n",
       "      <th>a</th>\n",
       "      <th>b</th>\n",
       "      <th>c</th>\n",
       "      <th>alpha</th>\n",
       "      <th>beta</th>\n",
       "      <th>gamma</th>\n",
       "    </tr>\n",
       "  </thead>\n",
       "  <tbody>\n",
       "    <tr>\n",
       "      <th>0</th>\n",
       "      <td>AlGaO3</td>\n",
       "      <td>4.815930</td>\n",
       "      <td>-2.829282</td>\n",
       "      <td>0.027667</td>\n",
       "      <td>3.2132</td>\n",
       "      <td>5.001676</td>\n",
       "      <td>8.601477</td>\n",
       "      <td>9.277844</td>\n",
       "      <td>90.0</td>\n",
       "      <td>90.0</td>\n",
       "      <td>90.000000</td>\n",
       "    </tr>\n",
       "    <tr>\n",
       "      <th>1</th>\n",
       "      <td>AlGaO3</td>\n",
       "      <td>4.871107</td>\n",
       "      <td>-2.828189</td>\n",
       "      <td>0.028760</td>\n",
       "      <td>3.1117</td>\n",
       "      <td>4.995092</td>\n",
       "      <td>8.625028</td>\n",
       "      <td>9.159761</td>\n",
       "      <td>90.0</td>\n",
       "      <td>90.0</td>\n",
       "      <td>90.000000</td>\n",
       "    </tr>\n",
       "    <tr>\n",
       "      <th>2</th>\n",
       "      <td>AlGaO3</td>\n",
       "      <td>5.268751</td>\n",
       "      <td>-2.749419</td>\n",
       "      <td>0.107530</td>\n",
       "      <td>2.6071</td>\n",
       "      <td>4.889231</td>\n",
       "      <td>5.009529</td>\n",
       "      <td>7.448018</td>\n",
       "      <td>90.0</td>\n",
       "      <td>90.0</td>\n",
       "      <td>90.000000</td>\n",
       "    </tr>\n",
       "    <tr>\n",
       "      <th>3</th>\n",
       "      <td>Al11InO17</td>\n",
       "      <td>3.553205</td>\n",
       "      <td>-3.302315</td>\n",
       "      <td>0.013353</td>\n",
       "      <td>3.7251</td>\n",
       "      <td>5.656147</td>\n",
       "      <td>5.656147</td>\n",
       "      <td>23.061733</td>\n",
       "      <td>90.0</td>\n",
       "      <td>90.0</td>\n",
       "      <td>120.000009</td>\n",
       "    </tr>\n",
       "    <tr>\n",
       "      <th>4</th>\n",
       "      <td>AlInO3</td>\n",
       "      <td>6.148600</td>\n",
       "      <td>-2.253180</td>\n",
       "      <td>0.467778</td>\n",
       "      <td>0.0000</td>\n",
       "      <td>3.714679</td>\n",
       "      <td>3.714679</td>\n",
       "      <td>3.714679</td>\n",
       "      <td>90.0</td>\n",
       "      <td>90.0</td>\n",
       "      <td>90.000000</td>\n",
       "    </tr>\n",
       "  </tbody>\n",
       "</table>\n",
       "</div>\n",
       "      <button class=\"colab-df-convert\" onclick=\"convertToInteractive('df-e57cee2e-3200-4b5e-81b3-3531327c3288')\"\n",
       "              title=\"Convert this dataframe to an interactive table.\"\n",
       "              style=\"display:none;\">\n",
       "        \n",
       "  <svg xmlns=\"http://www.w3.org/2000/svg\" height=\"24px\"viewBox=\"0 0 24 24\"\n",
       "       width=\"24px\">\n",
       "    <path d=\"M0 0h24v24H0V0z\" fill=\"none\"/>\n",
       "    <path d=\"M18.56 5.44l.94 2.06.94-2.06 2.06-.94-2.06-.94-.94-2.06-.94 2.06-2.06.94zm-11 1L8.5 8.5l.94-2.06 2.06-.94-2.06-.94L8.5 2.5l-.94 2.06-2.06.94zm10 10l.94 2.06.94-2.06 2.06-.94-2.06-.94-.94-2.06-.94 2.06-2.06.94z\"/><path d=\"M17.41 7.96l-1.37-1.37c-.4-.4-.92-.59-1.43-.59-.52 0-1.04.2-1.43.59L10.3 9.45l-7.72 7.72c-.78.78-.78 2.05 0 2.83L4 21.41c.39.39.9.59 1.41.59.51 0 1.02-.2 1.41-.59l7.78-7.78 2.81-2.81c.8-.78.8-2.07 0-2.86zM5.41 20L4 18.59l7.72-7.72 1.47 1.35L5.41 20z\"/>\n",
       "  </svg>\n",
       "      </button>\n",
       "      \n",
       "  <style>\n",
       "    .colab-df-container {\n",
       "      display:flex;\n",
       "      flex-wrap:wrap;\n",
       "      gap: 12px;\n",
       "    }\n",
       "\n",
       "    .colab-df-convert {\n",
       "      background-color: #E8F0FE;\n",
       "      border: none;\n",
       "      border-radius: 50%;\n",
       "      cursor: pointer;\n",
       "      display: none;\n",
       "      fill: #1967D2;\n",
       "      height: 32px;\n",
       "      padding: 0 0 0 0;\n",
       "      width: 32px;\n",
       "    }\n",
       "\n",
       "    .colab-df-convert:hover {\n",
       "      background-color: #E2EBFA;\n",
       "      box-shadow: 0px 1px 2px rgba(60, 64, 67, 0.3), 0px 1px 3px 1px rgba(60, 64, 67, 0.15);\n",
       "      fill: #174EA6;\n",
       "    }\n",
       "\n",
       "    [theme=dark] .colab-df-convert {\n",
       "      background-color: #3B4455;\n",
       "      fill: #D2E3FC;\n",
       "    }\n",
       "\n",
       "    [theme=dark] .colab-df-convert:hover {\n",
       "      background-color: #434B5C;\n",
       "      box-shadow: 0px 1px 3px 1px rgba(0, 0, 0, 0.15);\n",
       "      filter: drop-shadow(0px 1px 2px rgba(0, 0, 0, 0.3));\n",
       "      fill: #FFFFFF;\n",
       "    }\n",
       "  </style>\n",
       "\n",
       "      <script>\n",
       "        const buttonEl =\n",
       "          document.querySelector('#df-e57cee2e-3200-4b5e-81b3-3531327c3288 button.colab-df-convert');\n",
       "        buttonEl.style.display =\n",
       "          google.colab.kernel.accessAllowed ? 'block' : 'none';\n",
       "\n",
       "        async function convertToInteractive(key) {\n",
       "          const element = document.querySelector('#df-e57cee2e-3200-4b5e-81b3-3531327c3288');\n",
       "          const dataTable =\n",
       "            await google.colab.kernel.invokeFunction('convertToInteractive',\n",
       "                                                     [key], {});\n",
       "          if (!dataTable) return;\n",
       "\n",
       "          const docLinkHtml = 'Like what you see? Visit the ' +\n",
       "            '<a target=\"_blank\" href=https://colab.research.google.com/notebooks/data_table.ipynb>data table notebook</a>'\n",
       "            + ' to learn more about interactive tables.';\n",
       "          element.innerHTML = '';\n",
       "          dataTable['output_type'] = 'display_data';\n",
       "          await google.colab.output.renderOutput(dataTable, element);\n",
       "          const docLink = document.createElement('div');\n",
       "          docLink.innerHTML = docLinkHtml;\n",
       "          element.appendChild(docLink);\n",
       "        }\n",
       "      </script>\n",
       "    </div>\n",
       "  </div>\n",
       "  "
      ],
      "text/plain": [
       "  pretty_formula   density  formation_energy_per_atom  e_above_hull  band_gap  \\\n",
       "0         AlGaO3  4.815930                  -2.829282      0.027667    3.2132   \n",
       "1         AlGaO3  4.871107                  -2.828189      0.028760    3.1117   \n",
       "2         AlGaO3  5.268751                  -2.749419      0.107530    2.6071   \n",
       "3      Al11InO17  3.553205                  -3.302315      0.013353    3.7251   \n",
       "4         AlInO3  6.148600                  -2.253180      0.467778    0.0000   \n",
       "\n",
       "          a         b          c  alpha  beta       gamma  \n",
       "0  5.001676  8.601477   9.277844   90.0  90.0   90.000000  \n",
       "1  4.995092  8.625028   9.159761   90.0  90.0   90.000000  \n",
       "2  4.889231  5.009529   7.448018   90.0  90.0   90.000000  \n",
       "3  5.656147  5.656147  23.061733   90.0  90.0  120.000009  \n",
       "4  3.714679  3.714679   3.714679   90.0  90.0   90.000000  "
      ]
     },
     "execution_count": 5,
     "metadata": {},
     "output_type": "execute_result"
    }
   ],
   "source": [
    "df.head()"
   ]
  },
  {
   "cell_type": "markdown",
   "metadata": {
    "id": "d8fSfNgMrAYL"
   },
   "source": [
    "## Q2"
   ]
  },
  {
   "cell_type": "code",
   "execution_count": 6,
   "metadata": {
    "colab": {
     "base_uri": "https://localhost:8080/",
     "height": 296
    },
    "id": "rRs8Sqr6gsXC",
    "outputId": "b670e9f3-39aa-4f57-89e7-84e520194e05"
   },
   "outputs": [
    {
     "data": {
      "text/plain": [
       "<matplotlib.axes._subplots.AxesSubplot at 0x7fe5c002d5d0>"
      ]
     },
     "execution_count": 6,
     "metadata": {},
     "output_type": "execute_result"
    },
    {
     "data": {
      "image/png": "[encoded data removed]",
      "text/plain": [
       "<Figure size 432x288 with 1 Axes>"
      ]
     },
     "metadata": {
      "needs_background": "light"
     },
     "output_type": "display_data"
    }
   ],
   "source": [
    "sns.histplot(df['density'])"
   ]
  },
  {
   "cell_type": "code",
   "execution_count": 7,
   "metadata": {
    "colab": {
     "base_uri": "https://localhost:8080/",
     "height": 299
    },
    "id": "jThre0F5uC9N",
    "outputId": "d6bcedc3-3d6a-40cf-d8e0-0d7652373eda"
   },
   "outputs": [
    {
     "data": {
      "text/plain": [
       "<matplotlib.axes._subplots.AxesSubplot at 0x7fe5bf49eb50>"
      ]
     },
     "execution_count": 7,
     "metadata": {},
     "output_type": "execute_result"
    },
    {
     "data": {
      "image/png": "[encoded data removed]",
      "text/plain": [
       "<Figure size 432x288 with 1 Axes>"
      ]
     },
     "metadata": {
      "needs_background": "light"
     },
     "output_type": "display_data"
    }
   ],
   "source": [
    "sns.histplot(df['formation_energy_per_atom'])"
   ]
  },
  {
   "cell_type": "code",
   "execution_count": 8,
   "metadata": {
    "colab": {
     "base_uri": "https://localhost:8080/",
     "height": 297
    },
    "id": "nCMxTj-ahWjv",
    "outputId": "2ee7a25f-e242-41ef-90f8-7702612fb127"
   },
   "outputs": [
    {
     "data": {
      "text/plain": [
       "<matplotlib.axes._subplots.AxesSubplot at 0x7fe5bef7f250>"
      ]
     },
     "execution_count": 8,
     "metadata": {},
     "output_type": "execute_result"
    },
    {
     "data": {
      "image/png": "[encoded data removed]",
      "text/plain": [
       "<Figure size 432x288 with 1 Axes>"
      ]
     },
     "metadata": {
      "needs_background": "light"
     },
     "output_type": "display_data"
    }
   ],
   "source": [
    "sns.histplot(df['e_above_hull'])"
   ]
  },
  {
   "cell_type": "code",
   "execution_count": 9,
   "metadata": {
    "colab": {
     "base_uri": "https://localhost:8080/",
     "height": 297
    },
    "id": "jHE28akSuNLz",
    "outputId": "997ef2b3-ec79-4f76-8a08-449fc138d1b3"
   },
   "outputs": [
    {
     "data": {
      "text/plain": [
       "<matplotlib.axes._subplots.AxesSubplot at 0x7fe5beec4b10>"
      ]
     },
     "execution_count": 9,
     "metadata": {},
     "output_type": "execute_result"
    },
    {
     "data": {
      "image/png": "[encoded data removed]",
      "text/plain": [
       "<Figure size 432x288 with 1 Axes>"
      ]
     },
     "metadata": {
      "needs_background": "light"
     },
     "output_type": "display_data"
    }
   ],
   "source": [
    "sns.histplot(df['band_gap'])"
   ]
  },
  {
   "cell_type": "code",
   "execution_count": 10,
   "metadata": {
    "colab": {
     "base_uri": "https://localhost:8080/",
     "height": 296
    },
    "id": "gNV-aNP-uN5X",
    "outputId": "5042c188-fd96-4dab-d7fe-a392ac6705c2"
   },
   "outputs": [
    {
     "data": {
      "text/plain": [
       "<matplotlib.axes._subplots.AxesSubplot at 0x7fe5bee47050>"
      ]
     },
     "execution_count": 10,
     "metadata": {},
     "output_type": "execute_result"
    },
    {
     "data": {
      "image/png": "[encoded data removed]",
      "text/plain": [
       "<Figure size 432x288 with 1 Axes>"
      ]
     },
     "metadata": {
      "needs_background": "light"
     },
     "output_type": "display_data"
    }
   ],
   "source": [
    "sns.histplot(df['a'])"
   ]
  },
  {
   "cell_type": "code",
   "execution_count": 11,
   "metadata": {
    "colab": {
     "base_uri": "https://localhost:8080/",
     "height": 299
    },
    "id": "w6F3Slh6uN-t",
    "outputId": "fc47f88c-5a55-4a38-bc7b-8d73997e187c"
   },
   "outputs": [
    {
     "data": {
      "text/plain": [
       "<matplotlib.axes._subplots.AxesSubplot at 0x7fe5beddf4d0>"
      ]
     },
     "execution_count": 11,
     "metadata": {},
     "output_type": "execute_result"
    },
    {
     "data": {
      "image/png": "[encoded data removed]",
      "text/plain": [
       "<Figure size 432x288 with 1 Axes>"
      ]
     },
     "metadata": {
      "needs_background": "light"
     },
     "output_type": "display_data"
    }
   ],
   "source": [
    "sns.histplot(df['b'])"
   ]
  },
  {
   "cell_type": "code",
   "execution_count": 12,
   "metadata": {
    "colab": {
     "base_uri": "https://localhost:8080/",
     "height": 296
    },
    "id": "KsT3CUNDuOFn",
    "outputId": "8a92cf4a-e0b9-426e-f6e9-5bd914747eb4"
   },
   "outputs": [
    {
     "data": {
      "text/plain": [
       "<matplotlib.axes._subplots.AxesSubplot at 0x7fe5beda9cd0>"
      ]
     },
     "execution_count": 12,
     "metadata": {},
     "output_type": "execute_result"
    },
    {
     "data": {
      "image/png": "[encoded data removed]",
      "text/plain": [
       "<Figure size 432x288 with 1 Axes>"
      ]
     },
     "metadata": {
      "needs_background": "light"
     },
     "output_type": "display_data"
    }
   ],
   "source": [
    "sns.histplot(df['c'])"
   ]
  },
  {
   "cell_type": "code",
   "execution_count": 13,
   "metadata": {
    "colab": {
     "base_uri": "https://localhost:8080/",
     "height": 296
    },
    "id": "TWX_NYztuOML",
    "outputId": "8d126aeb-c131-4124-ddf5-727ff0a8eb64"
   },
   "outputs": [
    {
     "data": {
      "text/plain": [
       "<matplotlib.axes._subplots.AxesSubplot at 0x7fe5bedfe410>"
      ]
     },
     "execution_count": 13,
     "metadata": {},
     "output_type": "execute_result"
    },
    {
     "data": {
      "image/png": "[encoded data removed]",
      "text/plain": [
       "<Figure size 432x288 with 1 Axes>"
      ]
     },
     "metadata": {
      "needs_background": "light"
     },
     "output_type": "display_data"
    }
   ],
   "source": [
    "sns.histplot(df['alpha'])"
   ]
  },
  {
   "cell_type": "code",
   "execution_count": 14,
   "metadata": {
    "colab": {
     "base_uri": "https://localhost:8080/",
     "height": 296
    },
    "id": "qOd6PSzNuOSu",
    "outputId": "c385e00f-8ebc-49d8-c2ca-5eb538163bf2"
   },
   "outputs": [
    {
     "data": {
      "text/plain": [
       "<matplotlib.axes._subplots.AxesSubplot at 0x7fe5beba0090>"
      ]
     },
     "execution_count": 14,
     "metadata": {},
     "output_type": "execute_result"
    },
    {
     "data": {
      "image/png": "[encoded data removed]",
      "text/plain": [
       "<Figure size 432x288 with 1 Axes>"
      ]
     },
     "metadata": {
      "needs_background": "light"
     },
     "output_type": "display_data"
    }
   ],
   "source": [
    "sns.histplot(df['beta'])"
   ]
  },
  {
   "cell_type": "code",
   "execution_count": 15,
   "metadata": {
    "colab": {
     "base_uri": "https://localhost:8080/",
     "height": 296
    },
    "id": "W9RIVZvIuOiP",
    "outputId": "f2d9dbb0-0202-4684-876c-88046c8b40fc"
   },
   "outputs": [
    {
     "data": {
      "text/plain": [
       "<matplotlib.axes._subplots.AxesSubplot at 0x7fe5bea5bd10>"
      ]
     },
     "execution_count": 15,
     "metadata": {},
     "output_type": "execute_result"
    },
    {
     "data": {
      "image/png": "[encoded data removed]",
      "text/plain": [
       "<Figure size 432x288 with 1 Axes>"
      ]
     },
     "metadata": {
      "needs_background": "light"
     },
     "output_type": "display_data"
    }
   ],
   "source": [
    "sns.histplot(df['gamma'])"
   ]
  },
  {
   "cell_type": "code",
   "execution_count": 16,
   "metadata": {
    "colab": {
     "base_uri": "https://localhost:8080/",
     "height": 729
    },
    "id": "lV5iNE8mrAYN",
    "outputId": "8cde70d7-f6b8-4515-ea38-904f119bf8fa"
   },
   "outputs": [
    {
     "data": {
      "image/png": "[encoded data removed]",
      "text/plain": [
       "<Figure size 720x720 with 1 Axes>"
      ]
     },
     "metadata": {
      "needs_background": "light"
     },
     "output_type": "display_data"
    }
   ],
   "source": [
    "data =[df['density'],df['formation_energy_per_atom'],df['e_above_hull'],df['band_gap'],df['a'],df['b'],df['c'],df['alpha'],df['beta'],df['gamma']]\n",
    "figure=plt.figure(figsize=(10,10))\n",
    "plt.boxplot(data,labels=['density','f_energy','e_a_hull','b_g','a','b','c','alpha','beta','gamma'])\n",
    "plt.tight_layout()"
   ]
  },
  {
   "cell_type": "markdown",
   "metadata": {
    "id": "0JlB29zWrAYN"
   },
   "source": [
    "## Q3"
   ]
  },
  {
   "cell_type": "markdown",
   "metadata": {
    "id": "rxvm-3vrrAYN"
   },
   "source": [
    "From the given data we see that \n",
    "For density:  Most of the compounds have a value between 2 to 4 , for the values from 1 to 2 and 4 to 7 , each value has 5 or lesser elements\n",
    "For formation energy per atom:  Majority of the compounds posses a value between -3 and -3.5 , while for values from -3 to -0.5 the distribution is fairly even with two dips.The value range is from -3.5 to -0.5.\n",
    "For energy above the hull:  Major compunds are between the values 0 and 0.25, with a small distribution till 1 . The value range is small.\n",
    "For band gap:  Major lie at 0 and 3 with some distribution between 1 to 5.\n",
    "For a:  Major values for compounds are 5 and 10 with small distribution in the range of 2.5 to 12. and an outlier at 22.5.\n",
    "For b:  Major distriution for 5-6 and 10 with lesser distribution for lower values.\n",
    "For c:  Highest density is at 10 with small distribution around it from 5 to 15, with a few outliers near 20 and one at 50.\n",
    "For alpha:  normal distribution with peak at 90 and outlier in the range of 40 to 80 and around 120\n",
    "For beta:  Similar distribution to alpha with main distribution around 90 and outliers from 40 to 80  and around 120\n",
    "For gamma:  Similar to alpha distribution with a wider distribution around 90 and outliers from 20 to 70 and around 120 and 150."
   ]
  },
  {
   "cell_type": "markdown",
   "metadata": {
    "id": "G2ukJ9rKrAYO"
   },
   "source": [
    "## Q4"
   ]
  },
  {
   "cell_type": "code",
   "execution_count": 17,
   "metadata": {
    "colab": {
     "base_uri": "https://localhost:8080/",
     "height": 300
    },
    "id": "1VgR_Q1d5ggj",
    "outputId": "a0e35725-0eb5-44bf-a6c0-fdc126af87d2"
   },
   "outputs": [
    {
     "data": {
      "text/html": [
       "\n",
       "  <div id=\"df-d6588fef-f45a-48c7-80d0-ae276f92d53f\">\n",
       "    <div class=\"colab-df-container\">\n",
       "      <div>\n",
       "<style scoped>\n",
       "    .dataframe tbody tr th:only-of-type {\n",
       "        vertical-align: middle;\n",
       "    }\n",
       "\n",
       "    .dataframe tbody tr th {\n",
       "        vertical-align: top;\n",
       "    }\n",
       "\n",
       "    .dataframe thead th {\n",
       "        text-align: right;\n",
       "    }\n",
       "</style>\n",
       "<table border=\"1\" class=\"dataframe\">\n",
       "  <thead>\n",
       "    <tr style=\"text-align: right;\">\n",
       "      <th></th>\n",
       "      <th>density</th>\n",
       "      <th>formation_energy_per_atom</th>\n",
       "      <th>e_above_hull</th>\n",
       "      <th>band_gap</th>\n",
       "      <th>a</th>\n",
       "      <th>b</th>\n",
       "      <th>c</th>\n",
       "      <th>alpha</th>\n",
       "      <th>beta</th>\n",
       "      <th>gamma</th>\n",
       "    </tr>\n",
       "  </thead>\n",
       "  <tbody>\n",
       "    <tr>\n",
       "      <th>count</th>\n",
       "      <td>157.000000</td>\n",
       "      <td>157.000000</td>\n",
       "      <td>157.000000</td>\n",
       "      <td>157.000000</td>\n",
       "      <td>157.000000</td>\n",
       "      <td>157.000000</td>\n",
       "      <td>157.000000</td>\n",
       "      <td>157.000000</td>\n",
       "      <td>157.000000</td>\n",
       "      <td>157.000000</td>\n",
       "    </tr>\n",
       "    <tr>\n",
       "      <th>mean</th>\n",
       "      <td>3.574813</td>\n",
       "      <td>-2.552349</td>\n",
       "      <td>0.251024</td>\n",
       "      <td>2.342734</td>\n",
       "      <td>7.433867</td>\n",
       "      <td>7.582949</td>\n",
       "      <td>11.366531</td>\n",
       "      <td>85.260673</td>\n",
       "      <td>86.533589</td>\n",
       "      <td>88.321278</td>\n",
       "    </tr>\n",
       "    <tr>\n",
       "      <th>std</th>\n",
       "      <td>1.364655</td>\n",
       "      <td>0.872252</td>\n",
       "      <td>0.284961</td>\n",
       "      <td>1.746517</td>\n",
       "      <td>3.030253</td>\n",
       "      <td>2.607474</td>\n",
       "      <td>8.660188</td>\n",
       "      <td>13.701764</td>\n",
       "      <td>12.973137</td>\n",
       "      <td>22.069556</td>\n",
       "    </tr>\n",
       "    <tr>\n",
       "      <th>min</th>\n",
       "      <td>1.245752</td>\n",
       "      <td>-3.435728</td>\n",
       "      <td>0.000000</td>\n",
       "      <td>0.000000</td>\n",
       "      <td>2.571560</td>\n",
       "      <td>2.571560</td>\n",
       "      <td>3.165385</td>\n",
       "      <td>28.845002</td>\n",
       "      <td>28.845002</td>\n",
       "      <td>27.706050</td>\n",
       "    </tr>\n",
       "    <tr>\n",
       "      <th>25%</th>\n",
       "      <td>2.970010</td>\n",
       "      <td>-3.240910</td>\n",
       "      <td>0.070349</td>\n",
       "      <td>0.295800</td>\n",
       "      <td>5.316091</td>\n",
       "      <td>5.422800</td>\n",
       "      <td>7.448018</td>\n",
       "      <td>86.313722</td>\n",
       "      <td>87.627448</td>\n",
       "      <td>86.346723</td>\n",
       "    </tr>\n",
       "    <tr>\n",
       "      <th>50%</th>\n",
       "      <td>3.120025</td>\n",
       "      <td>-2.992422</td>\n",
       "      <td>0.189125</td>\n",
       "      <td>2.755300</td>\n",
       "      <td>6.092113</td>\n",
       "      <td>7.114438</td>\n",
       "      <td>10.210319</td>\n",
       "      <td>90.000000</td>\n",
       "      <td>90.000000</td>\n",
       "      <td>90.000000</td>\n",
       "    </tr>\n",
       "    <tr>\n",
       "      <th>75%</th>\n",
       "      <td>3.965193</td>\n",
       "      <td>-1.964391</td>\n",
       "      <td>0.240903</td>\n",
       "      <td>3.343300</td>\n",
       "      <td>10.238891</td>\n",
       "      <td>10.264941</td>\n",
       "      <td>10.973812</td>\n",
       "      <td>91.247553</td>\n",
       "      <td>91.095274</td>\n",
       "      <td>92.365754</td>\n",
       "    </tr>\n",
       "    <tr>\n",
       "      <th>max</th>\n",
       "      <td>7.617550</td>\n",
       "      <td>-0.143771</td>\n",
       "      <td>1.764967</td>\n",
       "      <td>8.366900</td>\n",
       "      <td>22.860096</td>\n",
       "      <td>11.798155</td>\n",
       "      <td>51.890590</td>\n",
       "      <td>119.514147</td>\n",
       "      <td>121.698862</td>\n",
       "      <td>149.200515</td>\n",
       "    </tr>\n",
       "  </tbody>\n",
       "</table>\n",
       "</div>\n",
       "      <button class=\"colab-df-convert\" onclick=\"convertToInteractive('df-d6588fef-f45a-48c7-80d0-ae276f92d53f')\"\n",
       "              title=\"Convert this dataframe to an interactive table.\"\n",
       "              style=\"display:none;\">\n",
       "        \n",
       "  <svg xmlns=\"http://www.w3.org/2000/svg\" height=\"24px\"viewBox=\"0 0 24 24\"\n",
       "       width=\"24px\">\n",
       "    <path d=\"M0 0h24v24H0V0z\" fill=\"none\"/>\n",
       "    <path d=\"M18.56 5.44l.94 2.06.94-2.06 2.06-.94-2.06-.94-.94-2.06-.94 2.06-2.06.94zm-11 1L8.5 8.5l.94-2.06 2.06-.94-2.06-.94L8.5 2.5l-.94 2.06-2.06.94zm10 10l.94 2.06.94-2.06 2.06-.94-2.06-.94-.94-2.06-.94 2.06-2.06.94z\"/><path d=\"M17.41 7.96l-1.37-1.37c-.4-.4-.92-.59-1.43-.59-.52 0-1.04.2-1.43.59L10.3 9.45l-7.72 7.72c-.78.78-.78 2.05 0 2.83L4 21.41c.39.39.9.59 1.41.59.51 0 1.02-.2 1.41-.59l7.78-7.78 2.81-2.81c.8-.78.8-2.07 0-2.86zM5.41 20L4 18.59l7.72-7.72 1.47 1.35L5.41 20z\"/>\n",
       "  </svg>\n",
       "      </button>\n",
       "      \n",
       "  <style>\n",
       "    .colab-df-container {\n",
       "      display:flex;\n",
       "      flex-wrap:wrap;\n",
       "      gap: 12px;\n",
       "    }\n",
       "\n",
       "    .colab-df-convert {\n",
       "      background-color: #E8F0FE;\n",
       "      border: none;\n",
       "      border-radius: 50%;\n",
       "      cursor: pointer;\n",
       "      display: none;\n",
       "      fill: #1967D2;\n",
       "      height: 32px;\n",
       "      padding: 0 0 0 0;\n",
       "      width: 32px;\n",
       "    }\n",
       "\n",
       "    .colab-df-convert:hover {\n",
       "      background-color: #E2EBFA;\n",
       "      box-shadow: 0px 1px 2px rgba(60, 64, 67, 0.3), 0px 1px 3px 1px rgba(60, 64, 67, 0.15);\n",
       "      fill: #174EA6;\n",
       "    }\n",
       "\n",
       "    [theme=dark] .colab-df-convert {\n",
       "      background-color: #3B4455;\n",
       "      fill: #D2E3FC;\n",
       "    }\n",
       "\n",
       "    [theme=dark] .colab-df-convert:hover {\n",
       "      background-color: #434B5C;\n",
       "      box-shadow: 0px 1px 3px 1px rgba(0, 0, 0, 0.15);\n",
       "      filter: drop-shadow(0px 1px 2px rgba(0, 0, 0, 0.3));\n",
       "      fill: #FFFFFF;\n",
       "    }\n",
       "  </style>\n",
       "\n",
       "      <script>\n",
       "        const buttonEl =\n",
       "          document.querySelector('#df-d6588fef-f45a-48c7-80d0-ae276f92d53f button.colab-df-convert');\n",
       "        buttonEl.style.display =\n",
       "          google.colab.kernel.accessAllowed ? 'block' : 'none';\n",
       "\n",
       "        async function convertToInteractive(key) {\n",
       "          const element = document.querySelector('#df-d6588fef-f45a-48c7-80d0-ae276f92d53f');\n",
       "          const dataTable =\n",
       "            await google.colab.kernel.invokeFunction('convertToInteractive',\n",
       "                                                     [key], {});\n",
       "          if (!dataTable) return;\n",
       "\n",
       "          const docLinkHtml = 'Like what you see? Visit the ' +\n",
       "            '<a target=\"_blank\" href=https://colab.research.google.com/notebooks/data_table.ipynb>data table notebook</a>'\n",
       "            + ' to learn more about interactive tables.';\n",
       "          element.innerHTML = '';\n",
       "          dataTable['output_type'] = 'display_data';\n",
       "          await google.colab.output.renderOutput(dataTable, element);\n",
       "          const docLink = document.createElement('div');\n",
       "          docLink.innerHTML = docLinkHtml;\n",
       "          element.appendChild(docLink);\n",
       "        }\n",
       "      </script>\n",
       "    </div>\n",
       "  </div>\n",
       "  "
      ],
      "text/plain": [
       "          density  formation_energy_per_atom  e_above_hull    band_gap  \\\n",
       "count  157.000000                 157.000000    157.000000  157.000000   \n",
       "mean     3.574813                  -2.552349      0.251024    2.342734   \n",
       "std      1.364655                   0.872252      0.284961    1.746517   \n",
       "min      1.245752                  -3.435728      0.000000    0.000000   \n",
       "25%      2.970010                  -3.240910      0.070349    0.295800   \n",
       "50%      3.120025                  -2.992422      0.189125    2.755300   \n",
       "75%      3.965193                  -1.964391      0.240903    3.343300   \n",
       "max      7.617550                  -0.143771      1.764967    8.366900   \n",
       "\n",
       "                a           b           c       alpha        beta       gamma  \n",
       "count  157.000000  157.000000  157.000000  157.000000  157.000000  157.000000  \n",
       "mean     7.433867    7.582949   11.366531   85.260673   86.533589   88.321278  \n",
       "std      3.030253    2.607474    8.660188   13.701764   12.973137   22.069556  \n",
       "min      2.571560    2.571560    3.165385   28.845002   28.845002   27.706050  \n",
       "25%      5.316091    5.422800    7.448018   86.313722   87.627448   86.346723  \n",
       "50%      6.092113    7.114438   10.210319   90.000000   90.000000   90.000000  \n",
       "75%     10.238891   10.264941   10.973812   91.247553   91.095274   92.365754  \n",
       "max     22.860096   11.798155   51.890590  119.514147  121.698862  149.200515  "
      ]
     },
     "execution_count": 17,
     "metadata": {},
     "output_type": "execute_result"
    }
   ],
   "source": [
    "df.describe()"
   ]
  },
  {
   "cell_type": "markdown",
   "metadata": {
    "id": "dj_V6lue5n-u"
   },
   "source": [
    "We can see that the count for every feature is 157, which means there are no NULL values in our dataframe."
   ]
  },
  {
   "cell_type": "code",
   "execution_count": 18,
   "metadata": {
    "colab": {
     "base_uri": "https://localhost:8080/"
    },
    "id": "m1yj6BgOrAYO",
    "outputId": "3adc364f-cf35-4f08-b8e4-c6a019a0fb08"
   },
   "outputs": [
    {
     "name": "stderr",
     "output_type": "stream",
     "text": [
      "/usr/local/lib/python3.7/dist-packages/ipykernel_launcher.py:4: FutureWarning: Automatic reindexing on DataFrame vs Series comparisons is deprecated and will raise ValueError in a future version.  Do `left, right = left.align(right, axis=1, copy=False)` before e.g. `left == right`\n",
      "  after removing the cwd from sys.path.\n"
     ]
    },
    {
     "data": {
      "text/plain": [
       "a                             1\n",
       "alpha                        36\n",
       "b                             0\n",
       "band_gap                      1\n",
       "beta                         39\n",
       "c                            13\n",
       "density                      21\n",
       "e_above_hull                 22\n",
       "formation_energy_per_atom     0\n",
       "gamma                        61\n",
       "pretty_formula                0\n",
       "dtype: int64"
      ]
     },
     "execution_count": 18,
     "metadata": {},
     "output_type": "execute_result"
    }
   ],
   "source": [
    "Q1 = df.quantile(0.25)\n",
    "Q3 = df.quantile(0.75)\n",
    "IQR = Q3 - Q1\n",
    "((df < (Q1 - 1.5 * IQR)) | (df > (Q3 + 1.5 * IQR))).sum()"
   ]
  },
  {
   "cell_type": "markdown",
   "metadata": {
    "id": "8w5eNDDnBhG3"
   },
   "source": [
    "The above table gives us the number of outliers in the given feature."
   ]
  },
  {
   "cell_type": "markdown",
   "metadata": {
    "id": "gyZUMCfWrAYO"
   },
   "source": [
    "## Q5"
   ]
  },
  {
   "cell_type": "markdown",
   "metadata": {
    "id": "osRPwQgNrAYO"
   },
   "source": [
    "In machine learning usually, there are four types of feature scaling widely used. They are **min-max**, **standard**, **log** scalings. Scaling is done in order to make all features of data comparable by a single scale. \n",
    "\n",
    "\n"
   ]
  },
  {
   "cell_type": "markdown",
   "metadata": {
    "id": "_CRmNL4L-tgC"
   },
   "source": [
    "**Min-Max Normalization**: This technique re-scales a feature or observation value with distribution value between 0 and 1"
   ]
  },
  {
   "cell_type": "markdown",
   "metadata": {
    "id": "yel65LDX-tie"
   },
   "source": [
    "**Standardization**: It is a very effective technique which re-scales a feature value so that it has distribution with 0 mean value and variance equals to 1."
   ]
  },
  {
   "cell_type": "markdown",
   "metadata": {
    "id": "QNU0s9mt-xJf"
   },
   "source": [
    "**Log-Scaling**:Log scaling computes the log of your values to compress a wide range to a narrow range. Log scaling is helpful when a handful of your values have many points, while most other values have few points"
   ]
  },
  {
   "cell_type": "markdown",
   "metadata": {
    "id": "g6VsI3fw_Bku"
   },
   "source": [
    "The best choice of scaling method depends on the data, we can't say that this scaling technique will work for all data."
   ]
  },
  {
   "cell_type": "code",
   "execution_count": 19,
   "metadata": {
    "colab": {
     "base_uri": "https://localhost:8080/"
    },
    "id": "moLaEQanB3j_",
    "outputId": "35af236f-4c59-4157-c89e-69df1bd7a644"
   },
   "outputs": [
    {
     "data": {
      "text/plain": [
       "array([[0.56030938, 0.18422065, 0.01567576, ..., 0.67448522, 0.65861557,\n",
       "        0.51273076],\n",
       "       [0.56896895, 0.18455252, 0.01629476, ..., 0.67448522, 0.65861557,\n",
       "        0.51273076],\n",
       "       [0.63137578, 0.20848064, 0.06092469, ..., 0.67448522, 0.65861557,\n",
       "        0.51273076],\n",
       "       ...,\n",
       "       [0.92980341, 0.44928003, 0.02802837, ..., 0.67448522, 0.65861557,\n",
       "        0.51273076],\n",
       "       [0.89392169, 0.44316951, 0.01663124, ..., 0.3074434 , 0.3002097 ,\n",
       "        0.23881399],\n",
       "       [1.        , 0.50901798, 0.13944959, ..., 0.67448522, 0.65861557,\n",
       "        0.51273076]])"
      ]
     },
     "execution_count": 19,
     "metadata": {},
     "output_type": "execute_result"
    }
   ],
   "source": [
    "df1 =df\n",
    "from sklearn.preprocessing import MinMaxScaler\n",
    "scaler = MinMaxScaler()\n",
    "scaler.fit_transform(df1.iloc[:,1:].values)"
   ]
  },
  {
   "cell_type": "code",
   "execution_count": 21,
   "metadata": {
    "colab": {
     "base_uri": "https://localhost:8080/"
    },
    "id": "WxRz054ZEDt2",
    "outputId": "187e97d3-59f1-4d26-ebc6-c8ea847d4faa"
   },
   "outputs": [
    {
     "data": {
      "text/plain": [
       "array([[ 0.91238344, -0.31850735, -0.78632144, ...,  0.34699857,\n",
       "         0.26805415,  0.07630846],\n",
       "       [ 0.95294578, -0.31725082, -0.78247527, ...,  0.34699857,\n",
       "         0.26805415,  0.07630846],\n",
       "       [ 1.24526602, -0.22665493, -0.50516583, ...,  0.34699857,\n",
       "         0.26805415,  0.07630846],\n",
       "       ...,\n",
       "       [ 2.64313291,  0.68505196, -0.70956811, ...,  0.34699857,\n",
       "         0.26805415,  0.07630846],\n",
       "       [ 2.4750591 ,  0.66191651, -0.78038458, ..., -2.08961202,\n",
       "        -2.30540689, -1.43644817],\n",
       "       [ 2.97194125,  0.91122986, -0.01724899, ...,  0.34699857,\n",
       "         0.26805415,  0.07630846]])"
      ]
     },
     "execution_count": 21,
     "metadata": {},
     "output_type": "execute_result"
    }
   ],
   "source": [
    "df2 =df\n",
    "from sklearn.preprocessing import StandardScaler\n",
    "scaler = StandardScaler()\n",
    "scaler.fit_transform(df.iloc[:,1:].values)"
   ]
  }
 ],
 "metadata": {
  "colab": {
   "collapsed_sections": [],
   "provenance": []
  },
  "kernelspec": {
   "display_name": "Python 3 (ipykernel)",
   "language": "python",
   "name": "python3"
  },
  "language_info": {
   "codemirror_mode": {
    "name": "ipython",
    "version": 3
   },
   "file_extension": ".py",
   "mimetype": "text/x-python",
   "name": "python",
   "nbconvert_exporter": "python",
   "pygments_lexer": "ipython3",
   "version": "3.10.4"
  },
  "vscode": {
   "interpreter": {
    "hash": "b12b4f83a26b09be95d25162a029a582e85d825f62e213c8e3766a813b9081d7"
   }
  }
 },
 "nbformat": 4,
 "nbformat_minor": 1
}
