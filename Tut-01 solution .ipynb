{
 "cells": [
  {
   "cell_type": "markdown",
   "id": "fd8b6f36",
   "metadata": {},
   "source": [
    "#                                      Material Informatics(MTN-316)\n",
    "\n",
    "##                                                              Tutorial - 1(G-4)\n",
    "\n",
    "\n",
    "\n",
    "\n",
    "###  Name : Subhadip Mandal , Harsh Raj Bharti , Sorra Sai Teja\n",
    "###  Enrollment No : 20118091 , 20118034 , 20118089\n"
   ]
  },
  {
   "cell_type": "code",
   "execution_count": 46,
   "id": "381e8841",
   "metadata": {},
   "outputs": [],
   "source": [
    "MY_API = \"joqsp2fB8lGkkSOQQDK\""
   ]
  },
  {
   "cell_type": "markdown",
   "id": "975c3f54",
   "metadata": {},
   "source": [
    "### Q1. \n",
    "Using get_materials_ids and get_structure to obtain the MPIDs for perovskite material CH3NH3PbI3 .  Use one of the MPID to obtain the structural parameters."
   ]
  },
  {
   "cell_type": "code",
   "execution_count": 47,
   "id": "deffb799",
   "metadata": {},
   "outputs": [
    {
     "name": "stderr",
     "output_type": "stream",
     "text": [
      "C:\\Users\\DELL\\miniconda3\\envs\\my_pymatgen\\lib\\site-packages\\pymatgen\\ext\\matproj.py:179: UserWarning:\n",
      "\n",
      "You are using the legacy MPRester, which is deprecated. If you are not a power user, ie., you do not have a lot of legacy code that uses many different MPRester methods, it is recommended you get a new API key from the new Materials Project front end. Once you use get your new API key, using the new API key will automatically route you to using the new MPRester.\n",
      "\n"
     ]
    },
    {
     "data": {
      "text/plain": [
       "['mp-995203', 'mp-995214', 'mp-995227', 'mp-977013', 'mp-990432', 'mp-1194604']"
      ]
     },
     "execution_count": 47,
     "metadata": {},
     "output_type": "execute_result"
    }
   ],
   "source": [
    "from pymatgen.ext.matproj import MPRester \n",
    "mpr = MPRester(MY_API)\n",
    "ans = mpr.get_materials_ids(\"CH3NH3PbI3\")\n",
    "ans"
   ]
  },
  {
   "cell_type": "code",
   "execution_count": 48,
   "id": "178cd153",
   "metadata": {},
   "outputs": [
    {
     "name": "stdout",
     "output_type": "stream",
     "text": [
      "Full Formula (H24 Pb4 C4 I12 N4)\n",
      "Reduced Formula: H6PbCI3N\n",
      "abc   :   8.919519   9.012627  12.740755\n",
      "angles:  90.000000  90.000000  90.000000\n",
      "pbc   :       True       True       True\n",
      "Sites (48)\n",
      "  #  SP           a         b         c    magmom\n",
      "---  ----  --------  --------  --------  --------\n",
      "  0  H     0.388408  0.410677  0.320741         0\n",
      "  1  H     0.611592  0.589323  0.679259         0\n",
      "  2  H     0.888408  0.089323  0.679259         0\n",
      "  3  H     0.111592  0.910677  0.320741         0\n",
      "  4  H     0.611592  0.589323  0.820741         0\n",
      "  5  H     0.388408  0.410677  0.179259         0\n",
      "  6  H     0.111592  0.910677  0.179259         0\n",
      "  7  H     0.888408  0.089323  0.820741         0\n",
      "  8  H     0.602561  0.577773  0.315093         0\n",
      "  9  H     0.397439  0.422227  0.684907         0\n",
      " 10  H     0.102561  0.922227  0.684907         0\n",
      " 11  H     0.897439  0.077773  0.315093         0\n",
      " 12  H     0.397439  0.422227  0.815093         0\n",
      " 13  H     0.602561  0.577773  0.184907         0\n",
      " 14  H     0.897439  0.077773  0.184907         0\n",
      " 15  H     0.102561  0.922227  0.815093         0\n",
      " 16  H     0.54318   0.331775  0.25            -0\n",
      " 17  H     0.45682   0.668225  0.75            -0\n",
      " 18  H     0.04318   0.168225  0.75            -0\n",
      " 19  H     0.95682   0.831775  0.25            -0\n",
      " 20  H     0.46015   0.653692  0.25             0\n",
      " 21  H     0.53985   0.346308  0.75             0\n",
      " 22  H     0.96015   0.846308  0.75             0\n",
      " 23  H     0.03985   0.153692  0.25             0\n",
      " 24  Pb    0         0.5       0                0\n",
      " 25  Pb    0.5       0         0                0\n",
      " 26  Pb    0         0.5       0.5              0\n",
      " 27  Pb    0.5       0         0.5              0\n",
      " 28  C     0.042431  0.918718  0.25            -0\n",
      " 29  C     0.957569  0.081282  0.75            -0\n",
      " 30  C     0.542431  0.581282  0.75            -0\n",
      " 31  C     0.457569  0.418718  0.25            -0\n",
      " 32  I     0.197198  0.198644  0.018389        -0\n",
      " 33  I     0.802802  0.801356  0.981611        -0\n",
      " 34  I     0.697198  0.301356  0.981611        -0\n",
      " 35  I     0.302802  0.698644  0.018389        -0\n",
      " 36  I     0.802802  0.801356  0.518389        -0\n",
      " 37  I     0.197198  0.198644  0.481611        -0\n",
      " 38  I     0.302802  0.698644  0.481611        -0\n",
      " 39  I     0.697198  0.301356  0.518389        -0\n",
      " 40  I     0.942067  0.478144  0.25            -0\n",
      " 41  I     0.057933  0.521856  0.75            -0\n",
      " 42  I     0.442067  0.021856  0.75            -0\n",
      " 43  I     0.557933  0.978144  0.25            -0\n",
      " 44  N     0.034877  0.934074  0.75            -0\n",
      " 45  N     0.965123  0.065926  0.25            -0\n",
      " 46  N     0.534877  0.565926  0.25            -0\n",
      " 47  N     0.465123  0.434074  0.75            -0\n"
     ]
    }
   ],
   "source": [
    "structure = mpr.get_structure_by_material_id(\"mp-995203\")\n",
    "print(structure)"
   ]
  },
  {
   "cell_type": "markdown",
   "id": "47c20e2c",
   "metadata": {},
   "source": [
    "### Q2.\n",
    "Find the formula and Material ID for all the mono-oxides in the Materials Project database."
   ]
  },
  {
   "cell_type": "code",
   "execution_count": 49,
   "id": "8d3ece81",
   "metadata": {},
   "outputs": [
    {
     "data": {
      "text/plain": [
       "(207,\n",
       " [{'material_id': 'mp-1244926', 'pretty_formula': 'TiO'},\n",
       "  {'material_id': 'mp-2229', 'pretty_formula': 'ZnO'},\n",
       "  {'material_id': 'mp-754197', 'pretty_formula': 'NdO'},\n",
       "  {'material_id': 'mp-1181437', 'pretty_formula': 'FeO'},\n",
       "  {'material_id': 'mp-1147768', 'pretty_formula': 'CuO'},\n",
       "  {'material_id': 'mp-1287184', 'pretty_formula': 'VO'},\n",
       "  {'material_id': 'mp-1245329', 'pretty_formula': 'SnO'},\n",
       "  {'material_id': 'mp-31000', 'pretty_formula': 'NO'},\n",
       "  {'material_id': 'mp-1178414', 'pretty_formula': 'CrO'},\n",
       "  {'material_id': 'mp-1265', 'pretty_formula': 'MgO'},\n",
       "  {'material_id': 'mp-2311', 'pretty_formula': 'NbO'},\n",
       "  {'material_id': 'mp-19091', 'pretty_formula': 'CrO'},\n",
       "  {'material_id': 'mp-1245304', 'pretty_formula': 'CoO'},\n",
       "  {'material_id': 'mp-8222', 'pretty_formula': 'AgO'},\n",
       "  {'material_id': 'mp-1283030', 'pretty_formula': 'FeO'},\n",
       "  {'material_id': 'mp-1059242', 'pretty_formula': 'ClO'},\n",
       "  {'material_id': 'mp-1245039', 'pretty_formula': 'MgO'},\n",
       "  {'material_id': 'mp-673667', 'pretty_formula': 'TiO'},\n",
       "  {'material_id': 'mp-1245115', 'pretty_formula': 'SnO'},\n",
       "  {'material_id': 'mp-1065577', 'pretty_formula': 'MgO'},\n",
       "  {'material_id': 'mp-849689', 'pretty_formula': 'FeO'},\n",
       "  {'material_id': 'mp-775808', 'pretty_formula': 'MgO'},\n",
       "  {'material_id': 'mp-997630', 'pretty_formula': 'ZnO'},\n",
       "  {'material_id': 'mp-1244983', 'pretty_formula': 'FeO'},\n",
       "  {'material_id': 'mp-2692', 'pretty_formula': 'NbO'},\n",
       "  {'material_id': 'mp-1244944', 'pretty_formula': 'TiO'},\n",
       "  {'material_id': 'mp-1245209', 'pretty_formula': 'ZnO'},\n",
       "  {'material_id': 'mp-1895', 'pretty_formula': 'TaO'},\n",
       "  {'material_id': 'mp-1190533', 'pretty_formula': 'MgO'},\n",
       "  {'material_id': 'mp-7826', 'pretty_formula': 'HgO'},\n",
       "  {'material_id': 'mp-1244962', 'pretty_formula': 'MgO'},\n",
       "  {'material_id': 'mp-1245141', 'pretty_formula': 'TiO'},\n",
       "  {'material_id': 'mp-1279742', 'pretty_formula': 'FeO'},\n",
       "  {'material_id': 'mp-1178531', 'pretty_formula': 'BaO'},\n",
       "  {'material_id': 'mp-25229', 'pretty_formula': 'CuO'},\n",
       "  {'material_id': 'mp-1794', 'pretty_formula': 'BeO'},\n",
       "  {'material_id': 'mp-1245157', 'pretty_formula': 'MgO'},\n",
       "  {'material_id': 'mp-754282', 'pretty_formula': 'SrO'},\n",
       "  {'material_id': 'mp-1244919', 'pretty_formula': 'BeO'},\n",
       "  {'material_id': 'mp-1245255', 'pretty_formula': 'ZnO'},\n",
       "  {'material_id': 'mp-19006', 'pretty_formula': 'MnO'},\n",
       "  {'material_id': 'mp-1180973', 'pretty_formula': 'MgO'},\n",
       "  {'material_id': 'mp-1245109', 'pretty_formula': 'ZnO'},\n",
       "  {'material_id': 'mp-1283577', 'pretty_formula': 'CrO'},\n",
       "  {'material_id': 'mp-806', 'pretty_formula': 'PuO'},\n",
       "  {'material_id': 'mp-1207075', 'pretty_formula': 'TlO'},\n",
       "  {'material_id': 'mp-1245076', 'pretty_formula': 'SnO'},\n",
       "  {'material_id': 'mp-2664', 'pretty_formula': 'TiO'},\n",
       "  {'material_id': 'mp-7487', 'pretty_formula': 'BaO'},\n",
       "  {'material_id': 'mp-1180312', 'pretty_formula': 'MgO'},\n",
       "  {'material_id': 'mp-21394', 'pretty_formula': 'EuO'},\n",
       "  {'material_id': 'mp-550714', 'pretty_formula': 'PbO'},\n",
       "  {'material_id': 'mp-556660', 'pretty_formula': 'CO'},\n",
       "  {'material_id': 'mp-1008500', 'pretty_formula': 'BaO'},\n",
       "  {'material_id': 'mp-1281224', 'pretty_formula': 'MnO'},\n",
       "  {'material_id': 'mp-19275', 'pretty_formula': 'CoO'},\n",
       "  {'material_id': 'mp-1077107', 'pretty_formula': 'HgO'},\n",
       "  {'material_id': 'mp-545552', 'pretty_formula': 'SnO'},\n",
       "  {'material_id': 'mp-2542', 'pretty_formula': 'BeO'},\n",
       "  {'material_id': 'mp-545820', 'pretty_formula': 'SnO'},\n",
       "  {'material_id': 'mp-1071163', 'pretty_formula': 'TiO'},\n",
       "  {'material_id': 'mp-1079684', 'pretty_formula': 'NO'},\n",
       "  {'material_id': 'mp-1184211', 'pretty_formula': 'ErO'},\n",
       "  {'material_id': 'mp-1245910', 'pretty_formula': 'TeO'},\n",
       "  {'material_id': 'mp-1207019', 'pretty_formula': 'BrO'},\n",
       "  {'material_id': 'mp-1245128', 'pretty_formula': 'MgO'},\n",
       "  {'material_id': 'mp-545512', 'pretty_formula': 'CaO'},\n",
       "  {'material_id': 'mp-1093993', 'pretty_formula': 'ZnO'},\n",
       "  {'material_id': 'mp-1245192', 'pretty_formula': 'BaO'},\n",
       "  {'material_id': 'mp-1120722', 'pretty_formula': 'CuO'},\n",
       "  {'material_id': 'mp-19184', 'pretty_formula': 'VO'},\n",
       "  {'material_id': 'mp-1009129', 'pretty_formula': 'MgO'},\n",
       "  {'material_id': 'mp-1178247', 'pretty_formula': 'FeO'},\n",
       "  {'material_id': 'mp-556859', 'pretty_formula': 'HgO'},\n",
       "  {'material_id': 'mp-7947', 'pretty_formula': 'PtO'},\n",
       "  {'material_id': 'mp-1245133', 'pretty_formula': 'SnO'},\n",
       "  {'material_id': 'mp-754983', 'pretty_formula': 'CrO'},\n",
       "  {'material_id': 'mp-1065811', 'pretty_formula': 'SnO'},\n",
       "  {'material_id': 'mp-1245298', 'pretty_formula': 'BaO'},\n",
       "  {'material_id': 'mp-756436', 'pretty_formula': 'FeO'},\n",
       "  {'material_id': 'mp-1009819', 'pretty_formula': 'SrO'},\n",
       "  {'material_id': 'mp-11344', 'pretty_formula': 'PrO'},\n",
       "  {'material_id': 'mp-1336', 'pretty_formula': 'PdO'},\n",
       "  {'material_id': 'mp-1342', 'pretty_formula': 'BaO'},\n",
       "  {'material_id': 'mp-1244882', 'pretty_formula': 'CoO'},\n",
       "  {'material_id': 'mp-32761', 'pretty_formula': 'SiO'},\n",
       "  {'material_id': 'mp-999142', 'pretty_formula': 'SnO'},\n",
       "  {'material_id': 'mp-1178232', 'pretty_formula': 'FeO'},\n",
       "  {'material_id': 'mp-1183990', 'pretty_formula': 'GaO'},\n",
       "  {'material_id': 'mp-1272524', 'pretty_formula': 'CrO'},\n",
       "  {'material_id': 'mp-27945', 'pretty_formula': 'BiO'},\n",
       "  {'material_id': 'mp-1184809', 'pretty_formula': 'InO'},\n",
       "  {'material_id': 'mp-1245200', 'pretty_formula': 'CaO'},\n",
       "  {'material_id': 'mp-1213922', 'pretty_formula': 'ClO'},\n",
       "  {'material_id': 'mp-1064492', 'pretty_formula': 'CaO'},\n",
       "  {'material_id': 'mp-1180282', 'pretty_formula': 'NO'},\n",
       "  {'material_id': 'mp-974336', 'pretty_formula': 'HoO'},\n",
       "  {'material_id': 'mp-1009127', 'pretty_formula': 'MgO'},\n",
       "  {'material_id': 'mp-754824', 'pretty_formula': 'SrO'},\n",
       "  {'material_id': 'mp-1308540', 'pretty_formula': 'CrO'},\n",
       "  {'material_id': 'mp-7830', 'pretty_formula': 'UO'},\n",
       "  {'material_id': 'mp-1065190', 'pretty_formula': 'AgO'},\n",
       "  {'material_id': 'mp-1066856', 'pretty_formula': 'AgO'},\n",
       "  {'material_id': 'mp-1178239', 'pretty_formula': 'FeO'},\n",
       "  {'material_id': 'mp-754765', 'pretty_formula': 'FeO'},\n",
       "  {'material_id': 'mp-1245276', 'pretty_formula': 'BaO'},\n",
       "  {'material_id': 'mp-715262', 'pretty_formula': 'FeO'},\n",
       "  {'material_id': 'mp-1288', 'pretty_formula': 'AgO'},\n",
       "  {'material_id': 'mp-644481', 'pretty_formula': 'ScO'},\n",
       "  {'material_id': 'mp-672237', 'pretty_formula': 'PbO'},\n",
       "  {'material_id': 'mp-999539', 'pretty_formula': 'MnO'},\n",
       "  {'material_id': 'mp-499', 'pretty_formula': 'AgO'},\n",
       "  {'material_id': 'mp-1180220', 'pretty_formula': 'NO'},\n",
       "  {'material_id': 'mp-776911', 'pretty_formula': 'MgO'},\n",
       "  {'material_id': 'mp-755286', 'pretty_formula': 'CrO'},\n",
       "  {'material_id': 'mp-1190649', 'pretty_formula': 'MgO'},\n",
       "  {'material_id': 'mp-19009', 'pretty_formula': 'NiO'},\n",
       "  {'material_id': 'mp-20878', 'pretty_formula': 'PbO'},\n",
       "  {'material_id': 'mp-1180334', 'pretty_formula': 'NO'},\n",
       "  {'material_id': 'mp-1244871', 'pretty_formula': 'BaO'},\n",
       "  {'material_id': 'mp-1181994', 'pretty_formula': 'CO'},\n",
       "  {'material_id': 'mp-1206987', 'pretty_formula': 'ThO'},\n",
       "  {'material_id': 'mp-1079707', 'pretty_formula': 'CaO'},\n",
       "  {'material_id': 'mp-2133', 'pretty_formula': 'ZnO'},\n",
       "  {'material_id': 'mp-1017539', 'pretty_formula': 'ZnO'},\n",
       "  {'material_id': 'mp-1216', 'pretty_formula': 'YbO'},\n",
       "  {'material_id': 'mp-1244939', 'pretty_formula': 'CoO'},\n",
       "  {'material_id': 'mp-1101930', 'pretty_formula': 'MgO'},\n",
       "  {'material_id': 'mp-1245045', 'pretty_formula': 'MgO'},\n",
       "  {'material_id': 'mp-510751', 'pretty_formula': 'CuO'},\n",
       "  {'material_id': 'mp-1245001', 'pretty_formula': 'FeO'},\n",
       "  {'material_id': 'mp-2735', 'pretty_formula': 'PaO'},\n",
       "  {'material_id': 'mp-1245305', 'pretty_formula': 'CaO'},\n",
       "  {'material_id': 'mp-19128', 'pretty_formula': 'CoO'},\n",
       "  {'material_id': 'mp-8023', 'pretty_formula': 'AlO'},\n",
       "  {'material_id': 'mp-754545', 'pretty_formula': 'NdO'},\n",
       "  {'material_id': 'mp-22408', 'pretty_formula': 'CoO'},\n",
       "  {'material_id': 'mp-1273331', 'pretty_formula': 'VO'},\n",
       "  {'material_id': 'mp-11875', 'pretty_formula': 'CO'},\n",
       "  {'material_id': 'mp-7599', 'pretty_formula': 'BeO'},\n",
       "  {'material_id': 'mp-1132', 'pretty_formula': 'CdO'},\n",
       "  {'material_id': 'mp-1178514', 'pretty_formula': 'BaO'},\n",
       "  {'material_id': 'mp-1180047', 'pretty_formula': 'NiO'},\n",
       "  {'material_id': 'mp-13161', 'pretty_formula': 'ZnO'},\n",
       "  {'material_id': 'mp-1245089', 'pretty_formula': 'CoO'},\n",
       "  {'material_id': 'mp-1245232', 'pretty_formula': 'MgO'},\n",
       "  {'material_id': 'mp-10197', 'pretty_formula': 'ZrO'},\n",
       "  {'material_id': 'mp-13119', 'pretty_formula': 'CdO'},\n",
       "  {'material_id': 'mp-1611', 'pretty_formula': 'SmO'},\n",
       "  {'material_id': 'mp-1778', 'pretty_formula': 'BeO'},\n",
       "  {'material_id': 'mp-776658', 'pretty_formula': 'BaO'},\n",
       "  {'material_id': 'mp-1178416', 'pretty_formula': 'CrO'},\n",
       "  {'material_id': 'mp-1245195', 'pretty_formula': 'MgO'},\n",
       "  {'material_id': 'mp-33088', 'pretty_formula': 'ZrO'},\n",
       "  {'material_id': 'mp-6927', 'pretty_formula': 'NpO'},\n",
       "  {'material_id': 'mp-755189', 'pretty_formula': 'FeO'},\n",
       "  {'material_id': 'mp-10688', 'pretty_formula': 'CeO'},\n",
       "  {'material_id': 'mp-1245324', 'pretty_formula': 'TiO'},\n",
       "  {'material_id': 'mp-1187855', 'pretty_formula': 'YO'},\n",
       "  {'material_id': 'mp-1245143', 'pretty_formula': 'MgO'},\n",
       "  {'material_id': 'mp-1245311', 'pretty_formula': 'BaO'},\n",
       "  {'material_id': 'mp-1692', 'pretty_formula': 'CuO'},\n",
       "  {'material_id': 'mp-755073', 'pretty_formula': 'CrO'},\n",
       "  {'material_id': 'mp-754333', 'pretty_formula': 'TiO'},\n",
       "  {'material_id': 'mp-1224', 'pretty_formula': 'HgO'},\n",
       "  {'material_id': 'mp-1206710', 'pretty_formula': 'LaO'},\n",
       "  {'material_id': 'mp-995183', 'pretty_formula': 'CO'},\n",
       "  {'material_id': 'mp-685151', 'pretty_formula': 'TiO'},\n",
       "  {'material_id': 'mp-549706', 'pretty_formula': 'MgO'},\n",
       "  {'material_id': 'mp-510752', 'pretty_formula': 'CuO'},\n",
       "  {'material_id': 'mp-1079720', 'pretty_formula': 'AgO'},\n",
       "  {'material_id': 'mp-714885', 'pretty_formula': 'VO'},\n",
       "  {'material_id': 'mp-1245060', 'pretty_formula': 'BeO'},\n",
       "  {'material_id': 'mp-677074', 'pretty_formula': 'PbO'},\n",
       "  {'material_id': 'mp-1078644', 'pretty_formula': 'SnO'},\n",
       "  {'material_id': 'mp-1192043', 'pretty_formula': 'MgO'},\n",
       "  {'material_id': 'mp-1245294', 'pretty_formula': 'TiO'},\n",
       "  {'material_id': 'mp-1986', 'pretty_formula': 'ZnO'},\n",
       "  {'material_id': 'mp-1064456', 'pretty_formula': 'CuO'},\n",
       "  {'material_id': 'mp-1245168', 'pretty_formula': 'FeO'},\n",
       "  {'material_id': 'mp-1203', 'pretty_formula': 'TiO'},\n",
       "  {'material_id': 'mp-755300', 'pretty_formula': 'TiO'},\n",
       "  {'material_id': 'mp-1244902', 'pretty_formula': 'CaO'},\n",
       "  {'material_id': 'mp-1245015', 'pretty_formula': 'ZnO'},\n",
       "  {'material_id': 'mp-1245079', 'pretty_formula': 'BeO'},\n",
       "  {'material_id': 'mp-1181998', 'pretty_formula': 'BrO'},\n",
       "  {'material_id': 'mp-1244907', 'pretty_formula': 'BeO'},\n",
       "  {'material_id': 'mp-10728', 'pretty_formula': 'PdO'},\n",
       "  {'material_id': 'mp-634965', 'pretty_formula': 'NbO'},\n",
       "  {'material_id': 'mp-19921', 'pretty_formula': 'PbO'},\n",
       "  {'material_id': 'mp-7870', 'pretty_formula': 'GdO'},\n",
       "  {'material_id': 'mp-1285046', 'pretty_formula': 'CrO'},\n",
       "  {'material_id': 'mp-11540', 'pretty_formula': 'PtO'},\n",
       "  {'material_id': 'mp-545619', 'pretty_formula': 'HgO'},\n",
       "  {'material_id': 'mp-704645', 'pretty_formula': 'CuO'},\n",
       "  {'material_id': 'mp-755264', 'pretty_formula': 'TiO'},\n",
       "  {'material_id': 'mp-14549', 'pretty_formula': 'CuO'},\n",
       "  {'material_id': 'mp-2605', 'pretty_formula': 'CaO'},\n",
       "  {'material_id': 'mp-18905', 'pretty_formula': 'FeO'},\n",
       "  {'material_id': 'mp-2097', 'pretty_formula': 'SnO'},\n",
       "  {'material_id': 'mp-1191789', 'pretty_formula': 'MgO'},\n",
       "  {'material_id': 'mp-19079', 'pretty_formula': 'CoO'},\n",
       "  {'material_id': 'mp-753682', 'pretty_formula': 'FeO'},\n",
       "  {'material_id': 'mp-2472', 'pretty_formula': 'SrO'},\n",
       "  {'material_id': 'mp-1192189', 'pretty_formula': 'MgO'},\n",
       "  {'material_id': 'mp-603251', 'pretty_formula': 'PdO'},\n",
       "  {'material_id': 'mp-1244963', 'pretty_formula': 'BeO'}])"
      ]
     },
     "execution_count": 49,
     "metadata": {},
     "output_type": "execute_result"
    }
   ],
   "source": [
    "criteria = {'elements':{\"$all\": [\"O\"]},\n",
    "           'nelements':2,\n",
    "           \"anonymous_formula\": {\"A\" : 1 , \"B\" : 1},\n",
    "           }\n",
    "\n",
    "# entries = mpr.query(\"*O\" , [\"material_id\" , \"pretty_formula\"])\n",
    "# len(entries) , entries\n",
    "\n",
    "props = [ \"material_id\" , \"pretty_formula\" ]\n",
    "\n",
    "entries = mpr.query(criteria=criteria , properties = props)\n",
    "len(entries),entries"
   ]
  },
  {
   "cell_type": "markdown",
   "id": "d9af286a",
   "metadata": {},
   "source": [
    "### Q3.\n",
    "There are 78 entries of Al2O3 in the MP database . Use mpr.query to find out how many AlxOy compounds are there in the Materials Project ?"
   ]
  },
  {
   "cell_type": "code",
   "execution_count": 50,
   "id": "3bcece42",
   "metadata": {},
   "outputs": [
    {
     "name": "stdout",
     "output_type": "stream",
     "text": [
      "101 AlxOy compounds are there in the Materials Project \n"
     ]
    }
   ],
   "source": [
    "criteria = {\"chemsys\" : \"Al-O\"}\n",
    "\n",
    "props = [\"pretty_formula\" ]\n",
    "\n",
    "entries = mpr.query(criteria=criteria , properties = props)\n",
    "\n",
    "print(len(entries) ,\"AlxOy compounds are there in the Materials Project \")"
   ]
  },
  {
   "cell_type": "markdown",
   "id": "1ced281c",
   "metadata": {},
   "source": [
    "### Q4.\n",
    "Use the MPRester’s get_bandstructure_by_material_id method to get a band structure of mp-165 from Materials Database and plot it using the plot_bandstructure function. Identify the formula for the same."
   ]
  },
  {
   "cell_type": "code",
   "execution_count": 51,
   "id": "4e17afba",
   "metadata": {},
   "outputs": [
    {
     "data": {
      "image/png": "[encoded data removed]",
      "text/plain": [
       "<Figure size 864x576 with 1 Axes>"
      ]
     },
     "metadata": {},
     "output_type": "display_data"
    },
    {
     "name": "stdout",
     "output_type": "stream",
     "text": [
      "Formula for the band structure -  Si\n"
     ]
    }
   ],
   "source": [
    "bandStruct = mpr.get_bandstructure_by_material_id(\"mp-165\")\n",
    "\n",
    "from pymatgen.electronic_structure.plotter import BSPlotter\n",
    "plt = BSPlotter(bandStruct)\n",
    "#plt.get_plot()\n",
    "plt.show()\n",
    "\n",
    "formula = mpr.query({\"material_id\" : \"mp-165\"} , [\"pretty_formula\"])\n",
    "for f in formula:\n",
    "    print(\"Formula for the band structure - \" , f[\"pretty_formula\"])\n",
    "    break"
   ]
  },
  {
   "cell_type": "markdown",
   "id": "3ca55b0d",
   "metadata": {},
   "source": [
    "### Q5.\n",
    "Do a mpr.query to find the MPID , crystal system and density of all LiFePO4 compounds. Also collect their crystal systems(orthorhombic , monoclinic , triclinic ….). Plot a bar graph with frequency on y-axis and type of crystal system on the x axis."
   ]
  },
  {
   "cell_type": "code",
   "execution_count": 52,
   "id": "33595999",
   "metadata": {},
   "outputs": [
    {
     "data": {
      "text/plain": [
       "[{'material_id': 'mp-758222',\n",
       "  'crystal_system': 'orthorhombic',\n",
       "  'density': 3.306896826541691,\n",
       "  'pretty_formula': 'LiFePO4'},\n",
       " {'material_id': 'mp-757019',\n",
       "  'crystal_system': 'orthorhombic',\n",
       "  'density': 3.357816141816954,\n",
       "  'pretty_formula': 'LiFePO4'},\n",
       " {'material_id': 'mp-1661570',\n",
       "  'crystal_system': 'orthorhombic',\n",
       "  'density': 3.0712554473782143,\n",
       "  'pretty_formula': 'LiFePO4'},\n",
       " {'material_id': 'mp-19017',\n",
       "  'crystal_system': 'orthorhombic',\n",
       "  'density': 3.470895937963407,\n",
       "  'pretty_formula': 'LiFePO4'},\n",
       " {'material_id': 'mp-1176703',\n",
       "  'crystal_system': 'monoclinic',\n",
       "  'density': 3.2637341600617025,\n",
       "  'pretty_formula': 'LiFePO4'},\n",
       " {'material_id': 'mp-757406',\n",
       "  'crystal_system': 'orthorhombic',\n",
       "  'density': 2.9081413812201813,\n",
       "  'pretty_formula': 'LiFePO4'},\n",
       " {'material_id': 'mp-756958',\n",
       "  'crystal_system': 'monoclinic',\n",
       "  'density': 2.8379115879383354,\n",
       "  'pretty_formula': 'LiFePO4'},\n",
       " {'material_id': 'mp-765605',\n",
       "  'crystal_system': 'triclinic',\n",
       "  'density': 2.9643703681024562,\n",
       "  'pretty_formula': 'LiFePO4'},\n",
       " {'material_id': 'mp-754357',\n",
       "  'crystal_system': 'tetragonal',\n",
       "  'density': 2.965970773397454,\n",
       "  'pretty_formula': 'LiFePO4'},\n",
       " {'material_id': 'mp-765638',\n",
       "  'crystal_system': 'orthorhombic',\n",
       "  'density': 3.1281050167157907,\n",
       "  'pretty_formula': 'LiFePO4'},\n",
       " {'material_id': 'mp-765634',\n",
       "  'crystal_system': 'monoclinic',\n",
       "  'density': 3.4494420508387487,\n",
       "  'pretty_formula': 'LiFePO4'},\n",
       " {'material_id': 'mp-1176761',\n",
       "  'crystal_system': 'orthorhombic',\n",
       "  'density': 3.495529870508079,\n",
       "  'pretty_formula': 'LiFePO4'},\n",
       " {'material_id': 'mp-765591',\n",
       "  'crystal_system': 'orthorhombic',\n",
       "  'density': 2.772442056852171,\n",
       "  'pretty_formula': 'LiFePO4'},\n",
       " {'material_id': 'mp-758926',\n",
       "  'crystal_system': 'orthorhombic',\n",
       "  'density': 3.4294724757749875,\n",
       "  'pretty_formula': 'LiFePO4'},\n",
       " {'material_id': 'mp-694615',\n",
       "  'crystal_system': 'monoclinic',\n",
       "  'density': 2.89443243175393,\n",
       "  'pretty_formula': 'LiFePO4'},\n",
       " {'material_id': 'mp-757455',\n",
       "  'crystal_system': 'triclinic',\n",
       "  'density': 3.3877765463161142,\n",
       "  'pretty_formula': 'LiFePO4'},\n",
       " {'material_id': 'mp-757255',\n",
       "  'crystal_system': 'monoclinic',\n",
       "  'density': 3.4387748820733415,\n",
       "  'pretty_formula': 'LiFePO4'},\n",
       " {'material_id': 'mp-757097',\n",
       "  'crystal_system': 'orthorhombic',\n",
       "  'density': 2.9194648136706842,\n",
       "  'pretty_formula': 'LiFePO4'},\n",
       " {'material_id': 'mp-765635',\n",
       "  'crystal_system': 'monoclinic',\n",
       "  'density': 3.3404253479662223,\n",
       "  'pretty_formula': 'LiFePO4'},\n",
       " {'material_id': 'mp-704251',\n",
       "  'crystal_system': 'monoclinic',\n",
       "  'density': 2.9245997935911796,\n",
       "  'pretty_formula': 'LiFePO4'},\n",
       " {'material_id': 'mp-774251',\n",
       "  'crystal_system': 'triclinic',\n",
       "  'density': 3.0439580637963246,\n",
       "  'pretty_formula': 'LiFePO4'},\n",
       " {'material_id': 'mp-26559',\n",
       "  'crystal_system': 'monoclinic',\n",
       "  'density': 2.9059954136263766,\n",
       "  'pretty_formula': 'LiFePO4'},\n",
       " {'material_id': 'mp-850917',\n",
       "  'crystal_system': 'orthorhombic',\n",
       "  'density': 3.5508892774957608,\n",
       "  'pretty_formula': 'LiFePO4'},\n",
       " {'material_id': 'mp-585319',\n",
       "  'crystal_system': 'monoclinic',\n",
       "  'density': 2.883169579329764,\n",
       "  'pretty_formula': 'LiFePO4'},\n",
       " {'material_id': 'mp-757182',\n",
       "  'crystal_system': 'monoclinic',\n",
       "  'density': 2.657021062815453,\n",
       "  'pretty_formula': 'LiFePO4'},\n",
       " {'material_id': 'mp-772409',\n",
       "  'crystal_system': 'monoclinic',\n",
       "  'density': 3.2689609832730278,\n",
       "  'pretty_formula': 'LiFePO4'},\n",
       " {'material_id': 'mp-757465',\n",
       "  'crystal_system': 'orthorhombic',\n",
       "  'density': 2.958086415709384,\n",
       "  'pretty_formula': 'LiFePO4'},\n",
       " {'material_id': 'mp-772210',\n",
       "  'crystal_system': 'monoclinic',\n",
       "  'density': 2.916183919215905,\n",
       "  'pretty_formula': 'LiFePO4'},\n",
       " {'material_id': 'mp-757754',\n",
       "  'crystal_system': 'hexagonal',\n",
       "  'density': 2.473545180318599,\n",
       "  'pretty_formula': 'LiFePO4'},\n",
       " {'material_id': 'mp-26041',\n",
       "  'crystal_system': 'orthorhombic',\n",
       "  'density': 2.9138391525902336,\n",
       "  'pretty_formula': 'LiFePO4'},\n",
       " {'material_id': 'mp-765627',\n",
       "  'crystal_system': 'monoclinic',\n",
       "  'density': 2.9394083623387695,\n",
       "  'pretty_formula': 'LiFePO4'},\n",
       " {'material_id': 'mp-765641',\n",
       "  'crystal_system': 'monoclinic',\n",
       "  'density': 2.9835978742318128,\n",
       "  'pretty_formula': 'LiFePO4'},\n",
       " {'material_id': 'mp-758598',\n",
       "  'crystal_system': 'hexagonal',\n",
       "  'density': 2.997876554098016,\n",
       "  'pretty_formula': 'LiFePO4'},\n",
       " {'material_id': 'mp-772093',\n",
       "  'crystal_system': 'orthorhombic',\n",
       "  'density': 3.8886801862703564,\n",
       "  'pretty_formula': 'LiFePO4'},\n",
       " {'material_id': 'mp-757227',\n",
       "  'crystal_system': 'orthorhombic',\n",
       "  'density': 3.360160379337214,\n",
       "  'pretty_formula': 'LiFePO4'},\n",
       " {'material_id': 'mp-26791',\n",
       "  'crystal_system': 'orthorhombic',\n",
       "  'density': 2.9918786633916343,\n",
       "  'pretty_formula': 'LiFePO4'},\n",
       " {'material_id': 'mp-772406',\n",
       "  'crystal_system': 'monoclinic',\n",
       "  'density': 3.3726069967058936,\n",
       "  'pretty_formula': 'LiFePO4'},\n",
       " {'material_id': 'mp-758921',\n",
       "  'crystal_system': 'triclinic',\n",
       "  'density': 3.134089554517953,\n",
       "  'pretty_formula': 'LiFePO4'},\n",
       " {'material_id': 'mp-772146',\n",
       "  'crystal_system': 'hexagonal',\n",
       "  'density': 2.5182544379537455,\n",
       "  'pretty_formula': 'LiFePO4'},\n",
       " {'material_id': 'mp-759092',\n",
       "  'crystal_system': 'monoclinic',\n",
       "  'density': 2.5433202829222314,\n",
       "  'pretty_formula': 'LiFePO4'},\n",
       " {'material_id': 'mp-772906',\n",
       "  'crystal_system': 'monoclinic',\n",
       "  'density': 2.9691972389394863,\n",
       "  'pretty_formula': 'LiFePO4'},\n",
       " {'material_id': 'mp-26611',\n",
       "  'crystal_system': 'trigonal',\n",
       "  'density': 3.4122256619417617,\n",
       "  'pretty_formula': 'LiFePO4'},\n",
       " {'material_id': 'mp-758459',\n",
       "  'crystal_system': 'orthorhombic',\n",
       "  'density': 3.2046555997409025,\n",
       "  'pretty_formula': 'LiFePO4'},\n",
       " {'material_id': 'mp-1662030',\n",
       "  'crystal_system': 'triclinic',\n",
       "  'density': 2.761086054939609,\n",
       "  'pretty_formula': 'LiFePO4'},\n",
       " {'material_id': 'mp-765593',\n",
       "  'crystal_system': 'tetragonal',\n",
       "  'density': 3.881812803280282,\n",
       "  'pretty_formula': 'LiFePO4'},\n",
       " {'material_id': 'mp-765590',\n",
       "  'crystal_system': 'orthorhombic',\n",
       "  'density': 3.3338593354364288,\n",
       "  'pretty_formula': 'LiFePO4'},\n",
       " {'material_id': 'mp-765651',\n",
       "  'crystal_system': 'trigonal',\n",
       "  'density': 3.1440019942027764,\n",
       "  'pretty_formula': 'LiFePO4'},\n",
       " {'material_id': 'mp-761486',\n",
       "  'crystal_system': 'tetragonal',\n",
       "  'density': 2.9265788561922412,\n",
       "  'pretty_formula': 'LiFePO4'},\n",
       " {'material_id': 'mp-757027',\n",
       "  'crystal_system': 'orthorhombic',\n",
       "  'density': 2.8827030624529466,\n",
       "  'pretty_formula': 'LiFePO4'},\n",
       " {'material_id': 'mp-753407',\n",
       "  'crystal_system': 'monoclinic',\n",
       "  'density': 3.4610104592052378,\n",
       "  'pretty_formula': 'LiFePO4'},\n",
       " {'material_id': 'mp-1301965',\n",
       "  'crystal_system': 'monoclinic',\n",
       "  'density': 2.4517869529333005,\n",
       "  'pretty_formula': 'LiFePO4'},\n",
       " {'material_id': 'mp-753321',\n",
       "  'crystal_system': 'orthorhombic',\n",
       "  'density': 3.4932681714461458,\n",
       "  'pretty_formula': 'LiFePO4'},\n",
       " {'material_id': 'mp-772138',\n",
       "  'crystal_system': 'triclinic',\n",
       "  'density': 2.3565388135318703,\n",
       "  'pretty_formula': 'LiFePO4'},\n",
       " {'material_id': 'mp-765588',\n",
       "  'crystal_system': 'cubic',\n",
       "  'density': 2.782206857384571,\n",
       "  'pretty_formula': 'LiFePO4'},\n",
       " {'material_id': 'mp-765594',\n",
       "  'crystal_system': 'orthorhombic',\n",
       "  'density': 2.931397269961264,\n",
       "  'pretty_formula': 'LiFePO4'},\n",
       " {'material_id': 'mp-772286',\n",
       "  'crystal_system': 'monoclinic',\n",
       "  'density': 2.9364597216794657,\n",
       "  'pretty_formula': 'LiFePO4'},\n",
       " {'material_id': 'mp-758909',\n",
       "  'crystal_system': 'triclinic',\n",
       "  'density': 2.9700741595546787,\n",
       "  'pretty_formula': 'LiFePO4'},\n",
       " {'material_id': 'mp-757653',\n",
       "  'crystal_system': 'monoclinic',\n",
       "  'density': 3.2939756479971023,\n",
       "  'pretty_formula': 'LiFePO4'},\n",
       " {'material_id': 'mp-504184',\n",
       "  'crystal_system': 'monoclinic',\n",
       "  'density': 2.8982425411650854,\n",
       "  'pretty_formula': 'LiFePO4'},\n",
       " {'material_id': 'mp-1176699',\n",
       "  'crystal_system': 'monoclinic',\n",
       "  'density': 2.9129050145743602,\n",
       "  'pretty_formula': 'LiFePO4'},\n",
       " {'material_id': 'mp-765604',\n",
       "  'crystal_system': 'orthorhombic',\n",
       "  'density': 3.324854049282721,\n",
       "  'pretty_formula': 'LiFePO4'},\n",
       " {'material_id': 'mp-1661648',\n",
       "  'crystal_system': 'triclinic',\n",
       "  'density': 3.4187541500328638,\n",
       "  'pretty_formula': 'LiFePO4'},\n",
       " {'material_id': 'mp-18951',\n",
       "  'crystal_system': 'orthorhombic',\n",
       "  'density': 3.5681599227578773,\n",
       "  'pretty_formula': 'LiFePO4'},\n",
       " {'material_id': 'mp-758000',\n",
       "  'crystal_system': 'hexagonal',\n",
       "  'density': 3.0903179344586396,\n",
       "  'pretty_formula': 'LiFePO4'},\n",
       " {'material_id': 'mp-772069',\n",
       "  'crystal_system': 'monoclinic',\n",
       "  'density': 2.7882019844936177,\n",
       "  'pretty_formula': 'LiFePO4'},\n",
       " {'material_id': 'mp-705312',\n",
       "  'crystal_system': 'orthorhombic',\n",
       "  'density': 3.5639425570387107,\n",
       "  'pretty_formula': 'LiFePO4'},\n",
       " {'material_id': 'mp-585400',\n",
       "  'crystal_system': 'trigonal',\n",
       "  'density': 2.9769814793865983,\n",
       "  'pretty_formula': 'LiFePO4'}]"
      ]
     },
     "execution_count": 52,
     "metadata": {},
     "output_type": "execute_result"
    }
   ],
   "source": [
    "criteria = {'elements':{\"$all\": [\"Li\" , \"Fe\" , \"P\" , \"O\"]},\n",
    "            'nelements':4,\n",
    "            'anonymous_formula': {\"A\": 1, \"B\": 1, \"C\": 1 , \"D\" : 4},\n",
    "           }\n",
    "\n",
    "props = [\"material_id\" , \"crystal_system\" , \"density\" , \"pretty_formula\" ]\n",
    "\n",
    "mpr.query(criteria=criteria , properties=props)\n"
   ]
  },
  {
   "cell_type": "markdown",
   "id": "f7aed24c",
   "metadata": {},
   "source": [
    "### Graph"
   ]
  },
  {
   "cell_type": "code",
   "execution_count": 53,
   "id": "df2a0e45",
   "metadata": {},
   "outputs": [
    {
     "data": {
      "image/png": "[encoded data removed]",
      "text/plain": [
       "<Figure size 1440x720 with 1 Axes>"
      ]
     },
     "metadata": {
      "needs_background": "light"
     },
     "output_type": "display_data"
    }
   ],
   "source": [
    "import matplotlib.pyplot as plt\n",
    "%matplotlib inline\n",
    "with MPRester(MY_API) as mpr:\n",
    "    entries = mpr.query(\"LiFePO4\" , [\"material_id\" , \"spacegroup.crystal_system\"])\n",
    "    systems = (entry[\"spacegroup.crystal_system\"] for entry in entries)   #lists of all crystal structures\n",
    "    counts = {}\n",
    "    \n",
    "    for system in systems:\n",
    "        \n",
    "        if system in counts:\n",
    "            counts[system] += 1\n",
    "\n",
    "        else:\n",
    "            counts[system] = 1\n",
    "\n",
    "\n",
    "\n",
    "fig = plt.figure(figsize = (20 , 10))\n",
    "plt.bar(counts.keys() , counts.values() , color=\"dodgerblue\" , width=0.4)\n",
    "plt.xlabel(\"crystal systems\")\n",
    "plt.ylabel(\"frequency\")\n",
    "plt.title(\"Crystal structures VS frequency\")\n",
    "plt.show()\n"
   ]
  },
  {
   "cell_type": "markdown",
   "id": "b29faf46",
   "metadata": {},
   "source": [
    "### Q6.\n",
    "Construct the convex hull of the Cu-O-H system and name the stable compounds."
   ]
  },
  {
   "cell_type": "code",
   "execution_count": 54,
   "id": "55101a80",
   "metadata": {},
   "outputs": [
    {
     "name": "stderr",
     "output_type": "stream",
     "text": [
      "C:\\Users\\DELL\\miniconda3\\envs\\my_pymatgen\\lib\\site-packages\\pymatgen\\ext\\matproj.py:179: UserWarning:\n",
      "\n",
      "You are using the legacy MPRester, which is deprecated. If you are not a power user, ie., you do not have a lot of legacy code that uses many different MPRester methods, it is recommended you get a new API key from the new Materials Project front end. Once you use get your new API key, using the new API key will automatically route you to using the new MPRester.\n",
      "\n"
     ]
    },
    {
     "data": {
      "application/vnd.plotly.v1+json": {
       "config": {
        "plotlyServerURL": "https://plot.ly"
       },
       "data": [
        {
         "hoverinfo": "none",
         "line": {
          "color": "rgba(0,0,0,1.0)",
          "width": 7
         },
         "mode": "lines",
         "showlegend": false,
         "type": "scatter3d",
         "x": [
          0.28867513459481287,
          0.4330127018922193,
          null,
          0.4330127018922193,
          0.5196152422706631,
          null,
          0.28867513459481287,
          0,
          null,
          0.28867513459481287,
          0.5196152422706631,
          null,
          0,
          0,
          null,
          0.28867513459481287,
          0,
          null,
          0.4330127018922193,
          0.28867513459481287,
          null,
          0.28867513459481287,
          0,
          null,
          0.5196152422706631,
          0.8660254037844386,
          null,
          0.28867513459481287,
          0.28867513459481287,
          null,
          0.28867513459481287,
          0.8660254037844386,
          null
         ],
         "y": [
          0.8333333333333333,
          0.25,
          null,
          0.25,
          0.3,
          null,
          0.8333333333333333,
          0,
          null,
          0.8333333333333333,
          0.3,
          null,
          1,
          0,
          null,
          0.16666666666666666,
          0,
          null,
          0.25,
          0.16666666666666666,
          null,
          0.8333333333333333,
          1,
          null,
          0.3,
          0.5,
          null,
          0.8333333333333333,
          0.16666666666666666,
          null,
          0.8333333333333333,
          0.5,
          null
         ],
         "z": [
          -1.2816224920833335,
          -0.9427977106249994,
          null,
          -0.9427977106249994,
          -0.8327869942499995,
          null,
          -1.2816224920833335,
          0,
          null,
          -1.2816224920833335,
          -0.8327869942499995,
          null,
          0,
          0,
          null,
          -0.6444938387499993,
          0,
          null,
          -0.9427977106249994,
          -0.6444938387499993,
          null,
          -1.2816224920833335,
          0,
          null,
          -0.8327869942499995,
          0,
          null,
          -1.2816224920833335,
          -0.6444938387499993,
          null,
          -1.2816224920833335,
          0,
          null
         ]
        },
        {
         "hoverinfo": "none",
         "line": {
          "color": "rgba (0, 0, 0, 0.4)",
          "dash": "solid",
          "width": 1
         },
         "mode": "lines",
         "showlegend": false,
         "type": "scatter3d",
         "x": [
          0.8660254037844386,
          0,
          null,
          0.8660254037844386,
          0,
          null,
          0.8660254037844386,
          0,
          null,
          0.8660254037844386,
          0,
          null,
          0,
          0,
          null,
          0,
          0,
          null,
          0.8660254037844386,
          0.8660254037844386,
          null,
          0,
          0,
          null,
          0,
          0,
          null
         ],
         "y": [
          0.5,
          1,
          null,
          0.5,
          1,
          null,
          0.5,
          0,
          null,
          0.5,
          0,
          null,
          1,
          0,
          null,
          1,
          0,
          null,
          0.5,
          0.5,
          null,
          1,
          1,
          null,
          0,
          0,
          null
         ],
         "z": [
          0,
          0,
          null,
          -1.2816224920833335,
          -1.2816224920833335,
          null,
          0,
          0,
          null,
          -1.2816224920833335,
          -1.2816224920833335,
          null,
          0,
          0,
          null,
          -1.2816224920833335,
          -1.2816224920833335,
          null,
          0,
          -1.2816224920833335,
          null,
          0,
          -1.2816224920833335,
          null,
          0,
          -1.2816224920833335,
          null
         ]
        },
        {
         "colorbar": {
          "len": 0.75,
          "title": {
           "text": "Formation energy<br>(eV/atom)"
          },
          "x": 0.9
         },
         "colorscale": [
          [
           0,
           "#0c8c00"
          ],
          [
           0.5,
           "#d8ffd4"
          ],
          [
           1,
           "#ffffff"
          ]
         ],
         "flatshading": true,
         "hoverinfo": "none",
         "i": [
          19,
          0,
          0,
          0,
          0
         ],
         "intensity": [
          -1.2816224920833335,
          -0.875193681249999,
          -0.47013063227272767,
          -1.038124997368421,
          -0.9427977106249994,
          -0.5297812541666674,
          -0.9916996243749994,
          -1.0482354074999989,
          -0.6444938387499993,
          -0.8327869942499995,
          -0.6034609604999993,
          -0.8321401064285711,
          -0.8043133162500001,
          -0.6643228107291664,
          -0.09724695458333264,
          -0.8299205419166659,
          -0.6665310066477265,
          0,
          0,
          0
         ],
         "j": [
          0,
          9,
          9,
          8,
          8
         ],
         "k": [
          18,
          4,
          17,
          4,
          19
         ],
         "lighting": {
          "ambient": 1,
          "diffuse": 0
         },
         "name": "Convex Hull (shading)",
         "opacity": 0.8,
         "showlegend": true,
         "type": "mesh3d",
         "x": [
          0.28867513459481287,
          0.4330127018922193,
          0.31491832864888675,
          0.36464227527765836,
          0.4330127018922193,
          0.5773502691896257,
          0.4330127018922193,
          0.34641016151377546,
          0.28867513459481287,
          0.5196152422706631,
          0.34641016151377546,
          0.49487165930539345,
          0.3711537444790451,
          0.5051814855409226,
          0.09622504486493762,
          0.404145188432738,
          0.511742284054441,
          0.8660254037844386,
          0,
          0
         ],
         "y": [
          0.8333333333333333,
          0.75,
          0.8181818181818181,
          0.7894736842105263,
          0.25,
          0.3333333333333333,
          0.5,
          0.6000000000000001,
          0.16666666666666666,
          0.3,
          0.2,
          0.2857142857142857,
          0.21428571428571427,
          0.2916666666666667,
          0.05555555555555555,
          0.23333333333333334,
          0.29545454545454547,
          0.5,
          1,
          0
         ],
         "z": [
          -1.2816224920833335,
          -0.875193681249999,
          -0.47013063227272767,
          -1.038124997368421,
          -0.9427977106249994,
          -0.5297812541666674,
          -0.9916996243749994,
          -1.0482354074999989,
          -0.6444938387499993,
          -0.8327869942499995,
          -0.6034609604999993,
          -0.8321401064285711,
          -0.8043133162500001,
          -0.6643228107291664,
          -0.09724695458333264,
          -0.8299205419166659,
          -0.6665310066477265,
          0,
          0,
          0
         ]
        },
        {
         "hoverinfo": "skip",
         "mode": "text",
         "name": "Labels (stable)",
         "opacity": 1,
         "showlegend": true,
         "text": [
          "H<sub>2</sub>O",
          "CuO",
          "Cu<sub>2</sub>O<sub>3</sub>",
          "Cu<sub>2</sub>O"
         ],
         "textposition": [
          "middle center",
          "middle center",
          "middle center",
          "middle center"
         ],
         "type": "scatter3d",
         "visible": true,
         "x": [
          0.2986751345948129,
          0.4230127018922193,
          0.5096152422706631,
          0.2986751345948129
         ],
         "y": [
          0.8433333333333333,
          0.24,
          0.29,
          0.15666666666666665
         ],
         "z": [
          -1.153460242875,
          -0.814635461416666,
          -0.7046247450416661,
          -0.516331589541666
         ]
        },
        {
         "hoverinfo": "text",
         "hoverlabel": {
          "font": {
           "size": 14
          }
         },
         "hovertext": [
          "O<sub>2</sub> (mp-610917) <br> 0.012 eV/atom (+0.012 eV/atom)",
          "O<sub>2</sub> (mp-1091399) <br> 0.186 eV/atom (+0.186 eV/atom)",
          "O<sub>2</sub> (mp-1180036) <br> 0.03 eV/atom (+0.03 eV/atom)",
          "O<sub>2</sub> (mp-1009490) <br> 0.002 eV/atom (+0.002 eV/atom)",
          "O<sub>2</sub> (mp-607540) <br> 0.124 eV/atom (+0.124 eV/atom)",
          "O<sub>2</sub> (mp-1066100) <br> 0.126 eV/atom (+0.126 eV/atom)",
          "O<sub>2</sub> (mp-611836) <br> 0.01 eV/atom (+0.01 eV/atom)",
          "H<sub>2</sub> (mp-1188177) <br> 0.035 eV/atom (+0.035 eV/atom)",
          "H<sub>2</sub> (mp-1181189) <br> 0.004 eV/atom (+0.004 eV/atom)",
          "H<sub>2</sub> (mp-850274) <br> 0.004 eV/atom (+0.004 eV/atom)",
          "H<sub>2</sub> (mp-1181188) <br> 0.004 eV/atom (+0.004 eV/atom)",
          "H<sub>2</sub> (mp-1066989) <br> 0.052 eV/atom (+0.052 eV/atom)",
          "H<sub>2</sub> (mp-1197798) <br> 0.017 eV/atom (+0.017 eV/atom)",
          "H<sub>2</sub> (mp-632291) <br> 0.001 eV/atom (+0.001 eV/atom)",
          "H<sub>2</sub> (mp-973783) <br> 0.003 eV/atom (+0.003 eV/atom)",
          "H<sub>2</sub> (mp-632172) <br> 0.001 eV/atom (+0.001 eV/atom)",
          "H<sub>2</sub>O (mp-558226) <br> -1.248 eV/atom (+0.033 eV/atom)",
          "H<sub>2</sub>O (mp-684704) <br> -1.198 eV/atom (+0.084 eV/atom)",
          "H<sub>2</sub>O (mp-697085) <br> -1.217 eV/atom (+0.064 eV/atom)",
          "H<sub>2</sub>O (mp-24043) <br> -1.257 eV/atom (+0.025 eV/atom)",
          "H<sub>2</sub>O (mp-558958) <br> -1.247 eV/atom (+0.034 eV/atom)",
          "H<sub>2</sub>O (mp-32959) <br> -1.214 eV/atom (+0.067 eV/atom)",
          "H<sub>2</sub>O (mp-673658) <br> -1.179 eV/atom (+0.102 eV/atom)",
          "H<sub>2</sub>O (mp-557082) <br> -1.247 eV/atom (+0.034 eV/atom)",
          "H<sub>2</sub>O (mp-634812) <br> -1.214 eV/atom (+0.068 eV/atom)",
          "H<sub>2</sub>O (mp-696735) <br> -1.262 eV/atom (+0.019 eV/atom)",
          "H<sub>2</sub>O (mp-703459) <br> -1.281 eV/atom (+0.001 eV/atom)",
          "H<sub>2</sub>O<sub>2</sub> (mp-23939) <br> -0.852 eV/atom (+0.11 eV/atom)",
          "H<sub>2</sub>O<sub>2</sub> (mp-28015) <br> -0.875 eV/atom (+0.086 eV/atom)",
          "H<sub>11</sub>O<sub>8</sub> (mp-32854) <br> -1.038 eV/atom (+0.075 eV/atom)",
          "Cu (mp-1010136) <br> 0.036 eV/atom (+0.036 eV/atom)",
          "Cu (mp-989782) <br> 0.008 eV/atom (+0.008 eV/atom)",
          "Cu (mp-1059259) <br> 0.144 eV/atom (+0.144 eV/atom)",
          "Cu (mp-998890) <br> 0.037 eV/atom (+0.037 eV/atom)",
          "Cu (mp-989695) <br> 0.006 eV/atom (+0.006 eV/atom)",
          "Cu (mp-1120774) <br> 0.158 eV/atom (+0.158 eV/atom)",
          "CuO (mp-510751) <br> -0.763 eV/atom (+0.18 eV/atom)",
          "CuO (mp-510752) <br> -0.79 eV/atom (+0.153 eV/atom)",
          "CuO (mp-1064456) <br> -0.942 eV/atom (+0.001 eV/atom)",
          "CuO (mp-704645) <br> -0.943 eV/atom (+0.0 eV/atom)",
          "CuO (mp-14549) <br> -0.771 eV/atom (+0.172 eV/atom)",
          "CuO<sub>2</sub> (mp-1181499) <br> -0.498 eV/atom (+0.196 eV/atom)",
          "CuO<sub>2</sub> (mp-25378) <br> -0.53 eV/atom (+0.164 eV/atom)",
          "CuO<sub>2</sub> (mp-504100) <br> -0.519 eV/atom (+0.175 eV/atom)",
          "CuH (mp-24093) <br> 0.049 eV/atom (+0.049 eV/atom)",
          "CuH (mp-1225705) <br> 0.098 eV/atom (+0.098 eV/atom)",
          "CuHO<sub>2</sub> (mp-996956) <br> -0.992 eV/atom (+0.009 eV/atom)",
          "CuHO<sub>2</sub> (mp-996953) <br> -0.983 eV/atom (+0.018 eV/atom)",
          "CuHO<sub>2</sub> (mp-996999) <br> -0.958 eV/atom (+0.043 eV/atom)",
          "Cu(HO)<sub>2</sub> (mp-625181) <br> -1.037 eV/atom (+0.109 eV/atom)",
          "Cu(HO)<sub>2</sub> (mp-505105) <br> -1.048 eV/atom (+0.098 eV/atom)",
          "Cu(HO)<sub>2</sub> (mp-625179) <br> -1.041 eV/atom (+0.105 eV/atom)",
          "Cu<sub>2</sub>O<sub>3</sub> (mp-755040) <br> -0.787 eV/atom (+0.046 eV/atom)",
          "Cu<sub>2</sub>O<sub>3</sub> (mp-760432) <br> -0.828 eV/atom (+0.005 eV/atom)",
          "Cu<sub>2</sub>O<sub>3</sub> (mvc-396) <br> -0.641 eV/atom (+0.192 eV/atom)",
          "Cu<sub>3</sub>O<sub>2</sub> (mp-1022728) <br> -0.603 eV/atom (+0.16 eV/atom)",
          "Cu<sub>3</sub>O<sub>4</sub> (mp-1178476) <br> -0.832 eV/atom (+0.032 eV/atom)",
          "Cu<sub>3</sub>O<sub>4</sub> (mp-1147673) <br> -0.798 eV/atom (+0.066 eV/atom)",
          "Cu<sub>4</sub>O<sub>3</sub> (mp-1478) <br> -0.804 eV/atom (+0.011 eV/atom)",
          "Cu<sub>4</sub>O<sub>3</sub> (mp-1023130) <br> -0.706 eV/atom (+0.109 eV/atom)",
          "Cu<sub>5</sub>O<sub>7</sub> (mvc-2262) <br> -0.664 eV/atom (+0.187 eV/atom)",
          "Cu<sub>8</sub>O (mp-31217) <br> -0.097 eV/atom (+0.118 eV/atom)",
          "Cu<sub>8</sub>O (mp-704745) <br> -0.029 eV/atom (+0.185 eV/atom)",
          "Cu<sub>8</sub>O<sub>7</sub> (mp-32905) <br> -0.816 eV/atom (+0.067 eV/atom)",
          "Cu<sub>8</sub>O<sub>7</sub> (mp-760084) <br> -0.83 eV/atom (+0.053 eV/atom)",
          "Cu<sub>9</sub>O<sub>13</sub> (mvc-1956) <br> -0.667 eV/atom (+0.176 eV/atom)",
          "Cu<sub>64</sub>O (mp-1213626) <br> 0.002 eV/atom (+0.032 eV/atom)"
         ],
         "marker": {
          "color": [
           0.012,
           0.186,
           0.03,
           0.002,
           0.124,
           0.126,
           0.01,
           0.035,
           0.004,
           0.004,
           0.004,
           0.052,
           0.017,
           0.001,
           0.003,
           0.001,
           0.033,
           0.084,
           0.064,
           0.025,
           0.034,
           0.067,
           0.102,
           0.034,
           0.068,
           0.019,
           0.001,
           0.11,
           0.086,
           0.075,
           0.036,
           0.008,
           0.144,
           0.037,
           0.006,
           0.158,
           0.18,
           0.153,
           0.001,
           0,
           0.172,
           0.196,
           0.164,
           0.175,
           0.049,
           0.098,
           0.009,
           0.018,
           0.043,
           0.109,
           0.098,
           0.105,
           0.046,
           0.005,
           0.192,
           0.16,
           0.032,
           0.066,
           0.011,
           0.109,
           0.187,
           0.118,
           0.185,
           0.067,
           0.053,
           0.176,
           0.032
          ],
          "colorbar": {
           "len": 0.75,
           "title": {
            "text": "Energy Above Hull<br>(eV/atom)"
           },
           "x": 0.05
          },
          "colorscale": [
           [
            0,
            "#fad393"
           ],
           [
            0.5,
            "#ff813d"
           ],
           [
            1,
            "#ff0000"
           ]
          ],
          "size": 6,
          "symbol": "diamond"
         },
         "mode": "markers",
         "name": "Above Hull",
         "showlegend": true,
         "type": "scatter3d",
         "x": [
          0.8660254037844386,
          0.8660254037844386,
          0.8660254037844386,
          0.8660254037844386,
          0.8660254037844386,
          0.8660254037844386,
          0.8660254037844386,
          0,
          0,
          0,
          0,
          0,
          0,
          0,
          0,
          0,
          0.28867513459481287,
          0.28867513459481287,
          0.28867513459481287,
          0.28867513459481287,
          0.28867513459481287,
          0.28867513459481287,
          0.28867513459481287,
          0.28867513459481287,
          0.28867513459481287,
          0.28867513459481287,
          0.28867513459481287,
          0.4330127018922193,
          0.4330127018922193,
          0.36464227527765836,
          0,
          0,
          0,
          0,
          0,
          0,
          0.4330127018922193,
          0.4330127018922193,
          0.4330127018922193,
          0.4330127018922193,
          0.4330127018922193,
          0.5773502691896257,
          0.5773502691896257,
          0.5773502691896257,
          0,
          0,
          0.4330127018922193,
          0.4330127018922193,
          0.4330127018922193,
          0.34641016151377546,
          0.34641016151377546,
          0.34641016151377546,
          0.5196152422706631,
          0.5196152422706631,
          0.5196152422706631,
          0.34641016151377546,
          0.49487165930539345,
          0.49487165930539345,
          0.3711537444790451,
          0.3711537444790451,
          0.5051814855409226,
          0.09622504486493762,
          0.09622504486493762,
          0.404145188432738,
          0.404145188432738,
          0.511742284054441,
          0.013323467750529826
         ],
         "y": [
          0.5,
          0.5,
          0.5,
          0.5,
          0.5,
          0.5,
          0.5,
          1,
          1,
          1,
          1,
          1,
          1,
          1,
          1,
          1,
          0.8333333333333333,
          0.8333333333333333,
          0.8333333333333333,
          0.8333333333333333,
          0.8333333333333333,
          0.8333333333333333,
          0.8333333333333333,
          0.8333333333333333,
          0.8333333333333333,
          0.8333333333333333,
          0.8333333333333333,
          0.75,
          0.75,
          0.7894736842105263,
          0,
          0,
          0,
          0,
          0,
          0,
          0.25,
          0.25,
          0.25,
          0.25,
          0.25,
          0.3333333333333333,
          0.3333333333333333,
          0.3333333333333333,
          0.5,
          0.5,
          0.5,
          0.5,
          0.5,
          0.6000000000000001,
          0.6000000000000001,
          0.6000000000000001,
          0.3,
          0.3,
          0.3,
          0.2,
          0.2857142857142857,
          0.2857142857142857,
          0.21428571428571427,
          0.21428571428571427,
          0.2916666666666667,
          0.05555555555555555,
          0.05555555555555555,
          0.23333333333333334,
          0.23333333333333334,
          0.29545454545454547,
          0.007692307692307693
         ],
         "z": [
          0.012,
          0.186,
          0.03,
          0.002,
          0.124,
          0.126,
          0.01,
          0.035,
          0.004,
          0.004,
          0.004,
          0.052,
          0.017,
          0.001,
          0.003,
          0.001,
          -1.248,
          -1.198,
          -1.217,
          -1.257,
          -1.247,
          -1.214,
          -1.179,
          -1.247,
          -1.214,
          -1.262,
          -1.281,
          -0.852,
          -0.875,
          -1.038,
          0.036,
          0.008,
          0.144,
          0.037,
          0.006,
          0.158,
          -0.763,
          -0.79,
          -0.942,
          -0.943,
          -0.771,
          -0.498,
          -0.53,
          -0.519,
          0.049,
          0.098,
          -0.992,
          -0.983,
          -0.958,
          -1.037,
          -1.048,
          -1.041,
          -0.787,
          -0.828,
          -0.641,
          -0.603,
          -0.832,
          -0.798,
          -0.804,
          -0.706,
          -0.664,
          -0.097,
          -0.029,
          -0.816,
          -0.83,
          -0.667,
          0.002
         ]
        },
        {
         "error_z": {
          "array": [
           0,
           0,
           0,
           0,
           0,
           0,
           0
          ],
          "color": "darkgray",
          "thickness": 5,
          "type": "data",
          "width": 10
         },
         "hoverinfo": "text",
         "hoverlabel": {
          "font": {
           "size": 14
          }
         },
         "hovertext": [
          "H<sub>2</sub>O (mp-697111) <br> -1.282 eV/atom",
          "CuO (mp-1692) <br> -0.943 eV/atom",
          "Cu<sub>2</sub>O<sub>3</sub> (mp-771359) <br> -0.833 eV/atom",
          "Cu (mp-30) <br> 0.0 eV/atom",
          "H<sub>2</sub> (mp-24504) <br> 0.0 eV/atom",
          "Cu<sub>2</sub>O (mp-361) <br> -0.644 eV/atom",
          "O<sub>2</sub> (mp-12957) <br> 0.0 eV/atom"
         ],
         "marker": {
          "color": "black",
          "line": {
           "color": "black",
           "width": 3
          },
          "opacity": 0.8,
          "size": 12
         },
         "mode": "markers",
         "name": "Stable",
         "showlegend": true,
         "type": "scatter3d",
         "x": [
          0.28867513459481287,
          0.4330127018922193,
          0.5196152422706631,
          0,
          0,
          0.28867513459481287,
          0.8660254037844386
         ],
         "y": [
          0.8333333333333333,
          0.25,
          0.3,
          0,
          1,
          0.16666666666666666,
          0.5
         ],
         "z": [
          -1.282,
          -0.943,
          -0.833,
          0,
          0,
          -0.644,
          0
         ]
        }
       ],
       "layout": {
        "autosize": true,
        "height": 700,
        "hovermode": "closest",
        "legend": {
         "orientation": "h",
         "traceorder": "reversed",
         "x": 0.5,
         "xanchor": "center",
         "y": 0,
         "yanchor": "top"
        },
        "margin": {
         "b": 10,
         "l": 0,
         "pad": 0,
         "r": 0,
         "t": 0
        },
        "paper_bgcolor": "rgba(0,0,0,0)",
        "plot_bgcolor": "rgba(0,0,0,0)",
        "scene": {
         "annotations": [
          {
           "align": "center",
           "font": {
            "color": "#000000",
            "size": 24
           },
           "opacity": 1,
           "showarrow": false,
           "text": "Cu",
           "x": 0,
           "xanchor": "right",
           "xshift": -10,
           "y": 0,
           "yanchor": "auto",
           "yshift": -10,
           "z": -1.153460242875
          },
          {
           "align": "center",
           "font": {
            "color": "#000000",
            "size": 24
           },
           "opacity": 1,
           "showarrow": false,
           "text": "H",
           "x": 0,
           "xanchor": "right",
           "xshift": -10,
           "y": 1,
           "yanchor": "auto",
           "yshift": -10,
           "z": -1.153460242875
          },
          {
           "align": "center",
           "font": {
            "color": "#000000",
            "size": 24
           },
           "opacity": 1,
           "showarrow": false,
           "text": "O",
           "x": 0.8660254037844386,
           "xanchor": "right",
           "xshift": -10,
           "y": 0.5,
           "yanchor": "auto",
           "yshift": -10,
           "z": -1.153460242875
          },
          {
           "opacity": 0,
           "text": "",
           "x": 1,
           "y": 1,
           "z": 0
          }
         ],
         "aspectratio": {
          "x": 1.7,
          "y": 1.7,
          "z": 1.2
         },
         "camera": {
          "center": {
           "x": -0.1,
           "y": 0,
           "z": -0.15
          },
          "eye": {
           "x": -0.1,
           "y": 0,
           "z": 2.5
          },
          "projection": {
           "type": "orthographic"
          }
         },
         "xaxis": {
          "autorange": true,
          "showaxeslabels": false,
          "showgrid": false,
          "showline": false,
          "showspikes": false,
          "showticklabels": false,
          "ticks": "",
          "visible": false,
          "zeroline": false
         },
         "yaxis": {
          "autorange": true,
          "showaxeslabels": false,
          "showgrid": false,
          "showline": false,
          "showspikes": false,
          "showticklabels": false,
          "ticks": "",
          "visible": false,
          "zeroline": false
         },
         "zaxis": {
          "autorange": true,
          "showaxeslabels": false,
          "showgrid": false,
          "showline": false,
          "showspikes": false,
          "showticklabels": false,
          "ticks": "",
          "visible": false,
          "zeroline": false
         }
        },
        "showlegend": true,
        "template": {
         "data": {
          "bar": [
           {
            "error_x": {
             "color": "#2a3f5f"
            },
            "error_y": {
             "color": "#2a3f5f"
            },
            "marker": {
             "line": {
              "color": "#E5ECF6",
              "width": 0.5
             },
             "pattern": {
              "fillmode": "overlay",
              "size": 10,
              "solidity": 0.2
             }
            },
            "type": "bar"
           }
          ],
          "barpolar": [
           {
            "marker": {
             "line": {
              "color": "#E5ECF6",
              "width": 0.5
             },
             "pattern": {
              "fillmode": "overlay",
              "size": 10,
              "solidity": 0.2
             }
            },
            "type": "barpolar"
           }
          ],
          "carpet": [
           {
            "aaxis": {
             "endlinecolor": "#2a3f5f",
             "gridcolor": "white",
             "linecolor": "white",
             "minorgridcolor": "white",
             "startlinecolor": "#2a3f5f"
            },
            "baxis": {
             "endlinecolor": "#2a3f5f",
             "gridcolor": "white",
             "linecolor": "white",
             "minorgridcolor": "white",
             "startlinecolor": "#2a3f5f"
            },
            "type": "carpet"
           }
          ],
          "choropleth": [
           {
            "colorbar": {
             "outlinewidth": 0,
             "ticks": ""
            },
            "type": "choropleth"
           }
          ],
          "contour": [
           {
            "colorbar": {
             "outlinewidth": 0,
             "ticks": ""
            },
            "colorscale": [
             [
              0,
              "#0d0887"
             ],
             [
              0.1111111111111111,
              "#46039f"
             ],
             [
              0.2222222222222222,
              "#7201a8"
             ],
             [
              0.3333333333333333,
              "#9c179e"
             ],
             [
              0.4444444444444444,
              "#bd3786"
             ],
             [
              0.5555555555555556,
              "#d8576b"
             ],
             [
              0.6666666666666666,
              "#ed7953"
             ],
             [
              0.7777777777777778,
              "#fb9f3a"
             ],
             [
              0.8888888888888888,
              "#fdca26"
             ],
             [
              1,
              "#f0f921"
             ]
            ],
            "type": "contour"
           }
          ],
          "contourcarpet": [
           {
            "colorbar": {
             "outlinewidth": 0,
             "ticks": ""
            },
            "type": "contourcarpet"
           }
          ],
          "heatmap": [
           {
            "colorbar": {
             "outlinewidth": 0,
             "ticks": ""
            },
            "colorscale": [
             [
              0,
              "#0d0887"
             ],
             [
              0.1111111111111111,
              "#46039f"
             ],
             [
              0.2222222222222222,
              "#7201a8"
             ],
             [
              0.3333333333333333,
              "#9c179e"
             ],
             [
              0.4444444444444444,
              "#bd3786"
             ],
             [
              0.5555555555555556,
              "#d8576b"
             ],
             [
              0.6666666666666666,
              "#ed7953"
             ],
             [
              0.7777777777777778,
              "#fb9f3a"
             ],
             [
              0.8888888888888888,
              "#fdca26"
             ],
             [
              1,
              "#f0f921"
             ]
            ],
            "type": "heatmap"
           }
          ],
          "heatmapgl": [
           {
            "colorbar": {
             "outlinewidth": 0,
             "ticks": ""
            },
            "colorscale": [
             [
              0,
              "#0d0887"
             ],
             [
              0.1111111111111111,
              "#46039f"
             ],
             [
              0.2222222222222222,
              "#7201a8"
             ],
             [
              0.3333333333333333,
              "#9c179e"
             ],
             [
              0.4444444444444444,
              "#bd3786"
             ],
             [
              0.5555555555555556,
              "#d8576b"
             ],
             [
              0.6666666666666666,
              "#ed7953"
             ],
             [
              0.7777777777777778,
              "#fb9f3a"
             ],
             [
              0.8888888888888888,
              "#fdca26"
             ],
             [
              1,
              "#f0f921"
             ]
            ],
            "type": "heatmapgl"
           }
          ],
          "histogram": [
           {
            "marker": {
             "pattern": {
              "fillmode": "overlay",
              "size": 10,
              "solidity": 0.2
             }
            },
            "type": "histogram"
           }
          ],
          "histogram2d": [
           {
            "colorbar": {
             "outlinewidth": 0,
             "ticks": ""
            },
            "colorscale": [
             [
              0,
              "#0d0887"
             ],
             [
              0.1111111111111111,
              "#46039f"
             ],
             [
              0.2222222222222222,
              "#7201a8"
             ],
             [
              0.3333333333333333,
              "#9c179e"
             ],
             [
              0.4444444444444444,
              "#bd3786"
             ],
             [
              0.5555555555555556,
              "#d8576b"
             ],
             [
              0.6666666666666666,
              "#ed7953"
             ],
             [
              0.7777777777777778,
              "#fb9f3a"
             ],
             [
              0.8888888888888888,
              "#fdca26"
             ],
             [
              1,
              "#f0f921"
             ]
            ],
            "type": "histogram2d"
           }
          ],
          "histogram2dcontour": [
           {
            "colorbar": {
             "outlinewidth": 0,
             "ticks": ""
            },
            "colorscale": [
             [
              0,
              "#0d0887"
             ],
             [
              0.1111111111111111,
              "#46039f"
             ],
             [
              0.2222222222222222,
              "#7201a8"
             ],
             [
              0.3333333333333333,
              "#9c179e"
             ],
             [
              0.4444444444444444,
              "#bd3786"
             ],
             [
              0.5555555555555556,
              "#d8576b"
             ],
             [
              0.6666666666666666,
              "#ed7953"
             ],
             [
              0.7777777777777778,
              "#fb9f3a"
             ],
             [
              0.8888888888888888,
              "#fdca26"
             ],
             [
              1,
              "#f0f921"
             ]
            ],
            "type": "histogram2dcontour"
           }
          ],
          "mesh3d": [
           {
            "colorbar": {
             "outlinewidth": 0,
             "ticks": ""
            },
            "type": "mesh3d"
           }
          ],
          "parcoords": [
           {
            "line": {
             "colorbar": {
              "outlinewidth": 0,
              "ticks": ""
             }
            },
            "type": "parcoords"
           }
          ],
          "pie": [
           {
            "automargin": true,
            "type": "pie"
           }
          ],
          "scatter": [
           {
            "fillpattern": {
             "fillmode": "overlay",
             "size": 10,
             "solidity": 0.2
            },
            "type": "scatter"
           }
          ],
          "scatter3d": [
           {
            "line": {
             "colorbar": {
              "outlinewidth": 0,
              "ticks": ""
             }
            },
            "marker": {
             "colorbar": {
              "outlinewidth": 0,
              "ticks": ""
             }
            },
            "type": "scatter3d"
           }
          ],
          "scattercarpet": [
           {
            "marker": {
             "colorbar": {
              "outlinewidth": 0,
              "ticks": ""
             }
            },
            "type": "scattercarpet"
           }
          ],
          "scattergeo": [
           {
            "marker": {
             "colorbar": {
              "outlinewidth": 0,
              "ticks": ""
             }
            },
            "type": "scattergeo"
           }
          ],
          "scattergl": [
           {
            "marker": {
             "colorbar": {
              "outlinewidth": 0,
              "ticks": ""
             }
            },
            "type": "scattergl"
           }
          ],
          "scattermapbox": [
           {
            "marker": {
             "colorbar": {
              "outlinewidth": 0,
              "ticks": ""
             }
            },
            "type": "scattermapbox"
           }
          ],
          "scatterpolar": [
           {
            "marker": {
             "colorbar": {
              "outlinewidth": 0,
              "ticks": ""
             }
            },
            "type": "scatterpolar"
           }
          ],
          "scatterpolargl": [
           {
            "marker": {
             "colorbar": {
              "outlinewidth": 0,
              "ticks": ""
             }
            },
            "type": "scatterpolargl"
           }
          ],
          "scatterternary": [
           {
            "marker": {
             "colorbar": {
              "outlinewidth": 0,
              "ticks": ""
             }
            },
            "type": "scatterternary"
           }
          ],
          "surface": [
           {
            "colorbar": {
             "outlinewidth": 0,
             "ticks": ""
            },
            "colorscale": [
             [
              0,
              "#0d0887"
             ],
             [
              0.1111111111111111,
              "#46039f"
             ],
             [
              0.2222222222222222,
              "#7201a8"
             ],
             [
              0.3333333333333333,
              "#9c179e"
             ],
             [
              0.4444444444444444,
              "#bd3786"
             ],
             [
              0.5555555555555556,
              "#d8576b"
             ],
             [
              0.6666666666666666,
              "#ed7953"
             ],
             [
              0.7777777777777778,
              "#fb9f3a"
             ],
             [
              0.8888888888888888,
              "#fdca26"
             ],
             [
              1,
              "#f0f921"
             ]
            ],
            "type": "surface"
           }
          ],
          "table": [
           {
            "cells": {
             "fill": {
              "color": "#EBF0F8"
             },
             "line": {
              "color": "white"
             }
            },
            "header": {
             "fill": {
              "color": "#C8D4E3"
             },
             "line": {
              "color": "white"
             }
            },
            "type": "table"
           }
          ]
         },
         "layout": {
          "annotationdefaults": {
           "arrowcolor": "#2a3f5f",
           "arrowhead": 0,
           "arrowwidth": 1
          },
          "autotypenumbers": "strict",
          "coloraxis": {
           "colorbar": {
            "outlinewidth": 0,
            "ticks": ""
           }
          },
          "colorscale": {
           "diverging": [
            [
             0,
             "#8e0152"
            ],
            [
             0.1,
             "#c51b7d"
            ],
            [
             0.2,
             "#de77ae"
            ],
            [
             0.3,
             "#f1b6da"
            ],
            [
             0.4,
             "#fde0ef"
            ],
            [
             0.5,
             "#f7f7f7"
            ],
            [
             0.6,
             "#e6f5d0"
            ],
            [
             0.7,
             "#b8e186"
            ],
            [
             0.8,
             "#7fbc41"
            ],
            [
             0.9,
             "#4d9221"
            ],
            [
             1,
             "#276419"
            ]
           ],
           "sequential": [
            [
             0,
             "#0d0887"
            ],
            [
             0.1111111111111111,
             "#46039f"
            ],
            [
             0.2222222222222222,
             "#7201a8"
            ],
            [
             0.3333333333333333,
             "#9c179e"
            ],
            [
             0.4444444444444444,
             "#bd3786"
            ],
            [
             0.5555555555555556,
             "#d8576b"
            ],
            [
             0.6666666666666666,
             "#ed7953"
            ],
            [
             0.7777777777777778,
             "#fb9f3a"
            ],
            [
             0.8888888888888888,
             "#fdca26"
            ],
            [
             1,
             "#f0f921"
            ]
           ],
           "sequentialminus": [
            [
             0,
             "#0d0887"
            ],
            [
             0.1111111111111111,
             "#46039f"
            ],
            [
             0.2222222222222222,
             "#7201a8"
            ],
            [
             0.3333333333333333,
             "#9c179e"
            ],
            [
             0.4444444444444444,
             "#bd3786"
            ],
            [
             0.5555555555555556,
             "#d8576b"
            ],
            [
             0.6666666666666666,
             "#ed7953"
            ],
            [
             0.7777777777777778,
             "#fb9f3a"
            ],
            [
             0.8888888888888888,
             "#fdca26"
            ],
            [
             1,
             "#f0f921"
            ]
           ]
          },
          "colorway": [
           "#636efa",
           "#EF553B",
           "#00cc96",
           "#ab63fa",
           "#FFA15A",
           "#19d3f3",
           "#FF6692",
           "#B6E880",
           "#FF97FF",
           "#FECB52"
          ],
          "font": {
           "color": "#2a3f5f"
          },
          "geo": {
           "bgcolor": "white",
           "lakecolor": "white",
           "landcolor": "#E5ECF6",
           "showlakes": true,
           "showland": true,
           "subunitcolor": "white"
          },
          "hoverlabel": {
           "align": "left"
          },
          "hovermode": "closest",
          "mapbox": {
           "style": "light"
          },
          "paper_bgcolor": "white",
          "plot_bgcolor": "#E5ECF6",
          "polar": {
           "angularaxis": {
            "gridcolor": "white",
            "linecolor": "white",
            "ticks": ""
           },
           "bgcolor": "#E5ECF6",
           "radialaxis": {
            "gridcolor": "white",
            "linecolor": "white",
            "ticks": ""
           }
          },
          "scene": {
           "xaxis": {
            "backgroundcolor": "#E5ECF6",
            "gridcolor": "white",
            "gridwidth": 2,
            "linecolor": "white",
            "showbackground": true,
            "ticks": "",
            "zerolinecolor": "white"
           },
           "yaxis": {
            "backgroundcolor": "#E5ECF6",
            "gridcolor": "white",
            "gridwidth": 2,
            "linecolor": "white",
            "showbackground": true,
            "ticks": "",
            "zerolinecolor": "white"
           },
           "zaxis": {
            "backgroundcolor": "#E5ECF6",
            "gridcolor": "white",
            "gridwidth": 2,
            "linecolor": "white",
            "showbackground": true,
            "ticks": "",
            "zerolinecolor": "white"
           }
          },
          "shapedefaults": {
           "line": {
            "color": "#2a3f5f"
           }
          },
          "ternary": {
           "aaxis": {
            "gridcolor": "white",
            "linecolor": "white",
            "ticks": ""
           },
           "baxis": {
            "gridcolor": "white",
            "linecolor": "white",
            "ticks": ""
           },
           "bgcolor": "#E5ECF6",
           "caxis": {
            "gridcolor": "white",
            "linecolor": "white",
            "ticks": ""
           }
          },
          "title": {
           "x": 0.05
          },
          "xaxis": {
           "automargin": true,
           "gridcolor": "white",
           "linecolor": "white",
           "ticks": "",
           "title": {
            "standoff": 15
           },
           "zerolinecolor": "white",
           "zerolinewidth": 2
          },
          "yaxis": {
           "automargin": true,
           "gridcolor": "white",
           "linecolor": "white",
           "ticks": "",
           "title": {
            "standoff": 15
           },
           "zerolinecolor": "white",
           "zerolinewidth": 2
          }
         }
        }
       }
      },
      "text/html": [
       "<div>                            <div id=\"f4b6373a-6f21-4489-8c95-075cb969192b\" class=\"plotly-graph-div\" style=\"height:700px; width:100%;\"></div>            <script type=\"text/javascript\">                require([\"plotly\"], function(Plotly) {                    window.PLOTLYENV=window.PLOTLYENV || {};                                    if (document.getElementById(\"f4b6373a-6f21-4489-8c95-075cb969192b\")) {                    Plotly.newPlot(                        \"f4b6373a-6f21-4489-8c95-075cb969192b\",                        [{\"hoverinfo\":\"none\",\"line\":{\"color\":\"rgba(0,0,0,1.0)\",\"width\":7.0},\"mode\":\"lines\",\"showlegend\":false,\"x\":[0.28867513459481287,0.4330127018922193,null,0.4330127018922193,0.5196152422706631,null,0.28867513459481287,0.0,null,0.28867513459481287,0.5196152422706631,null,0.0,0.0,null,0.28867513459481287,0.0,null,0.4330127018922193,0.28867513459481287,null,0.28867513459481287,0.0,null,0.5196152422706631,0.8660254037844386,null,0.28867513459481287,0.28867513459481287,null,0.28867513459481287,0.8660254037844386,null],\"y\":[0.8333333333333333,0.25,null,0.25,0.3,null,0.8333333333333333,0.0,null,0.8333333333333333,0.3,null,1.0,0.0,null,0.16666666666666666,0.0,null,0.25,0.16666666666666666,null,0.8333333333333333,1.0,null,0.3,0.5,null,0.8333333333333333,0.16666666666666666,null,0.8333333333333333,0.5,null],\"z\":[-1.2816224920833335,-0.9427977106249994,null,-0.9427977106249994,-0.8327869942499995,null,-1.2816224920833335,0.0,null,-1.2816224920833335,-0.8327869942499995,null,0.0,0.0,null,-0.6444938387499993,0.0,null,-0.9427977106249994,-0.6444938387499993,null,-1.2816224920833335,0.0,null,-0.8327869942499995,0.0,null,-1.2816224920833335,-0.6444938387499993,null,-1.2816224920833335,0.0,null],\"type\":\"scatter3d\"},{\"hoverinfo\":\"none\",\"line\":{\"color\":\"rgba (0, 0, 0, 0.4)\",\"dash\":\"solid\",\"width\":1.0},\"mode\":\"lines\",\"showlegend\":false,\"x\":[0.8660254037844386,0.0,null,0.8660254037844386,0.0,null,0.8660254037844386,0.0,null,0.8660254037844386,0.0,null,0.0,0.0,null,0.0,0.0,null,0.8660254037844386,0.8660254037844386,null,0.0,0.0,null,0.0,0.0,null],\"y\":[0.5,1.0,null,0.5,1.0,null,0.5,0.0,null,0.5,0.0,null,1.0,0.0,null,1.0,0.0,null,0.5,0.5,null,1.0,1.0,null,0.0,0.0,null],\"z\":[0,0,null,-1.2816224920833335,-1.2816224920833335,null,0,0,null,-1.2816224920833335,-1.2816224920833335,null,0,0,null,-1.2816224920833335,-1.2816224920833335,null,0,-1.2816224920833335,null,0,-1.2816224920833335,null,0,-1.2816224920833335,null],\"type\":\"scatter3d\"},{\"colorbar\":{\"len\":0.75,\"title\":{\"text\":\"Formation energy<br>(eV/atom)\"},\"x\":0.9},\"colorscale\":[[0.0,\"#0c8c00\"],[0.5,\"#d8ffd4\"],[1.0,\"#ffffff\"]],\"flatshading\":true,\"hoverinfo\":\"none\",\"i\":[19,0,0,0,0],\"intensity\":[-1.2816224920833335,-0.875193681249999,-0.47013063227272767,-1.038124997368421,-0.9427977106249994,-0.5297812541666674,-0.9916996243749994,-1.0482354074999989,-0.6444938387499993,-0.8327869942499995,-0.6034609604999993,-0.8321401064285711,-0.8043133162500001,-0.6643228107291664,-0.09724695458333264,-0.8299205419166659,-0.6665310066477265,0.0,0.0,0.0],\"j\":[0,9,9,8,8],\"k\":[18,4,17,4,19],\"lighting\":{\"ambient\":1.0,\"diffuse\":0.0},\"name\":\"Convex Hull (shading)\",\"opacity\":0.8,\"showlegend\":true,\"x\":[0.28867513459481287,0.4330127018922193,0.31491832864888675,0.36464227527765836,0.4330127018922193,0.5773502691896257,0.4330127018922193,0.34641016151377546,0.28867513459481287,0.5196152422706631,0.34641016151377546,0.49487165930539345,0.3711537444790451,0.5051814855409226,0.09622504486493762,0.404145188432738,0.511742284054441,0.8660254037844386,0.0,0.0],\"y\":[0.8333333333333333,0.75,0.8181818181818181,0.7894736842105263,0.25,0.3333333333333333,0.5,0.6000000000000001,0.16666666666666666,0.3,0.2,0.2857142857142857,0.21428571428571427,0.2916666666666667,0.05555555555555555,0.23333333333333334,0.29545454545454547,0.5,1.0,0.0],\"z\":[-1.2816224920833335,-0.875193681249999,-0.47013063227272767,-1.038124997368421,-0.9427977106249994,-0.5297812541666674,-0.9916996243749994,-1.0482354074999989,-0.6444938387499993,-0.8327869942499995,-0.6034609604999993,-0.8321401064285711,-0.8043133162500001,-0.6643228107291664,-0.09724695458333264,-0.8299205419166659,-0.6665310066477265,0.0,0.0,0.0],\"type\":\"mesh3d\"},{\"hoverinfo\":\"skip\",\"mode\":\"text\",\"name\":\"Labels (stable)\",\"opacity\":1.0,\"showlegend\":true,\"text\":[\"H<sub>2</sub>O\",\"CuO\",\"Cu<sub>2</sub>O<sub>3</sub>\",\"Cu<sub>2</sub>O\"],\"textposition\":[\"middle center\",\"middle center\",\"middle center\",\"middle center\"],\"visible\":true,\"x\":[0.2986751345948129,0.4230127018922193,0.5096152422706631,0.2986751345948129],\"y\":[0.8433333333333333,0.24,0.29,0.15666666666666665],\"z\":[-1.153460242875,-0.814635461416666,-0.7046247450416661,-0.516331589541666],\"type\":\"scatter3d\"},{\"hoverinfo\":\"text\",\"hoverlabel\":{\"font\":{\"size\":14}},\"hovertext\":[\"O<sub>2</sub> (mp-610917) <br> 0.012 eV/atom (+0.012 eV/atom)\",\"O<sub>2</sub> (mp-1091399) <br> 0.186 eV/atom (+0.186 eV/atom)\",\"O<sub>2</sub> (mp-1180036) <br> 0.03 eV/atom (+0.03 eV/atom)\",\"O<sub>2</sub> (mp-1009490) <br> 0.002 eV/atom (+0.002 eV/atom)\",\"O<sub>2</sub> (mp-607540) <br> 0.124 eV/atom (+0.124 eV/atom)\",\"O<sub>2</sub> (mp-1066100) <br> 0.126 eV/atom (+0.126 eV/atom)\",\"O<sub>2</sub> (mp-611836) <br> 0.01 eV/atom (+0.01 eV/atom)\",\"H<sub>2</sub> (mp-1188177) <br> 0.035 eV/atom (+0.035 eV/atom)\",\"H<sub>2</sub> (mp-1181189) <br> 0.004 eV/atom (+0.004 eV/atom)\",\"H<sub>2</sub> (mp-850274) <br> 0.004 eV/atom (+0.004 eV/atom)\",\"H<sub>2</sub> (mp-1181188) <br> 0.004 eV/atom (+0.004 eV/atom)\",\"H<sub>2</sub> (mp-1066989) <br> 0.052 eV/atom (+0.052 eV/atom)\",\"H<sub>2</sub> (mp-1197798) <br> 0.017 eV/atom (+0.017 eV/atom)\",\"H<sub>2</sub> (mp-632291) <br> 0.001 eV/atom (+0.001 eV/atom)\",\"H<sub>2</sub> (mp-973783) <br> 0.003 eV/atom (+0.003 eV/atom)\",\"H<sub>2</sub> (mp-632172) <br> 0.001 eV/atom (+0.001 eV/atom)\",\"H<sub>2</sub>O (mp-558226) <br> -1.248 eV/atom (+0.033 eV/atom)\",\"H<sub>2</sub>O (mp-684704) <br> -1.198 eV/atom (+0.084 eV/atom)\",\"H<sub>2</sub>O (mp-697085) <br> -1.217 eV/atom (+0.064 eV/atom)\",\"H<sub>2</sub>O (mp-24043) <br> -1.257 eV/atom (+0.025 eV/atom)\",\"H<sub>2</sub>O (mp-558958) <br> -1.247 eV/atom (+0.034 eV/atom)\",\"H<sub>2</sub>O (mp-32959) <br> -1.214 eV/atom (+0.067 eV/atom)\",\"H<sub>2</sub>O (mp-673658) <br> -1.179 eV/atom (+0.102 eV/atom)\",\"H<sub>2</sub>O (mp-557082) <br> -1.247 eV/atom (+0.034 eV/atom)\",\"H<sub>2</sub>O (mp-634812) <br> -1.214 eV/atom (+0.068 eV/atom)\",\"H<sub>2</sub>O (mp-696735) <br> -1.262 eV/atom (+0.019 eV/atom)\",\"H<sub>2</sub>O (mp-703459) <br> -1.281 eV/atom (+0.001 eV/atom)\",\"H<sub>2</sub>O<sub>2</sub> (mp-23939) <br> -0.852 eV/atom (+0.11 eV/atom)\",\"H<sub>2</sub>O<sub>2</sub> (mp-28015) <br> -0.875 eV/atom (+0.086 eV/atom)\",\"H<sub>11</sub>O<sub>8</sub> (mp-32854) <br> -1.038 eV/atom (+0.075 eV/atom)\",\"Cu (mp-1010136) <br> 0.036 eV/atom (+0.036 eV/atom)\",\"Cu (mp-989782) <br> 0.008 eV/atom (+0.008 eV/atom)\",\"Cu (mp-1059259) <br> 0.144 eV/atom (+0.144 eV/atom)\",\"Cu (mp-998890) <br> 0.037 eV/atom (+0.037 eV/atom)\",\"Cu (mp-989695) <br> 0.006 eV/atom (+0.006 eV/atom)\",\"Cu (mp-1120774) <br> 0.158 eV/atom (+0.158 eV/atom)\",\"CuO (mp-510751) <br> -0.763 eV/atom (+0.18 eV/atom)\",\"CuO (mp-510752) <br> -0.79 eV/atom (+0.153 eV/atom)\",\"CuO (mp-1064456) <br> -0.942 eV/atom (+0.001 eV/atom)\",\"CuO (mp-704645) <br> -0.943 eV/atom (+0.0 eV/atom)\",\"CuO (mp-14549) <br> -0.771 eV/atom (+0.172 eV/atom)\",\"CuO<sub>2</sub> (mp-1181499) <br> -0.498 eV/atom (+0.196 eV/atom)\",\"CuO<sub>2</sub> (mp-25378) <br> -0.53 eV/atom (+0.164 eV/atom)\",\"CuO<sub>2</sub> (mp-504100) <br> -0.519 eV/atom (+0.175 eV/atom)\",\"CuH (mp-24093) <br> 0.049 eV/atom (+0.049 eV/atom)\",\"CuH (mp-1225705) <br> 0.098 eV/atom (+0.098 eV/atom)\",\"CuHO<sub>2</sub> (mp-996956) <br> -0.992 eV/atom (+0.009 eV/atom)\",\"CuHO<sub>2</sub> (mp-996953) <br> -0.983 eV/atom (+0.018 eV/atom)\",\"CuHO<sub>2</sub> (mp-996999) <br> -0.958 eV/atom (+0.043 eV/atom)\",\"Cu(HO)<sub>2</sub> (mp-625181) <br> -1.037 eV/atom (+0.109 eV/atom)\",\"Cu(HO)<sub>2</sub> (mp-505105) <br> -1.048 eV/atom (+0.098 eV/atom)\",\"Cu(HO)<sub>2</sub> (mp-625179) <br> -1.041 eV/atom (+0.105 eV/atom)\",\"Cu<sub>2</sub>O<sub>3</sub> (mp-755040) <br> -0.787 eV/atom (+0.046 eV/atom)\",\"Cu<sub>2</sub>O<sub>3</sub> (mp-760432) <br> -0.828 eV/atom (+0.005 eV/atom)\",\"Cu<sub>2</sub>O<sub>3</sub> (mvc-396) <br> -0.641 eV/atom (+0.192 eV/atom)\",\"Cu<sub>3</sub>O<sub>2</sub> (mp-1022728) <br> -0.603 eV/atom (+0.16 eV/atom)\",\"Cu<sub>3</sub>O<sub>4</sub> (mp-1178476) <br> -0.832 eV/atom (+0.032 eV/atom)\",\"Cu<sub>3</sub>O<sub>4</sub> (mp-1147673) <br> -0.798 eV/atom (+0.066 eV/atom)\",\"Cu<sub>4</sub>O<sub>3</sub> (mp-1478) <br> -0.804 eV/atom (+0.011 eV/atom)\",\"Cu<sub>4</sub>O<sub>3</sub> (mp-1023130) <br> -0.706 eV/atom (+0.109 eV/atom)\",\"Cu<sub>5</sub>O<sub>7</sub> (mvc-2262) <br> -0.664 eV/atom (+0.187 eV/atom)\",\"Cu<sub>8</sub>O (mp-31217) <br> -0.097 eV/atom (+0.118 eV/atom)\",\"Cu<sub>8</sub>O (mp-704745) <br> -0.029 eV/atom (+0.185 eV/atom)\",\"Cu<sub>8</sub>O<sub>7</sub> (mp-32905) <br> -0.816 eV/atom (+0.067 eV/atom)\",\"Cu<sub>8</sub>O<sub>7</sub> (mp-760084) <br> -0.83 eV/atom (+0.053 eV/atom)\",\"Cu<sub>9</sub>O<sub>13</sub> (mvc-1956) <br> -0.667 eV/atom (+0.176 eV/atom)\",\"Cu<sub>64</sub>O (mp-1213626) <br> 0.002 eV/atom (+0.032 eV/atom)\"],\"marker\":{\"color\":[0.012,0.186,0.03,0.002,0.124,0.126,0.01,0.035,0.004,0.004,0.004,0.052,0.017,0.001,0.003,0.001,0.033,0.084,0.064,0.025,0.034,0.067,0.102,0.034,0.068,0.019,0.001,0.11,0.086,0.075,0.036,0.008,0.144,0.037,0.006,0.158,0.18,0.153,0.001,0.0,0.172,0.196,0.164,0.175,0.049,0.098,0.009,0.018,0.043,0.109,0.098,0.105,0.046,0.005,0.192,0.16,0.032,0.066,0.011,0.109,0.187,0.118,0.185,0.067,0.053,0.176,0.032],\"colorbar\":{\"len\":0.75,\"title\":{\"text\":\"Energy Above Hull<br>(eV/atom)\"},\"x\":0.05},\"colorscale\":[[0.0,\"#fad393\"],[0.5,\"#ff813d\"],[1.0,\"#ff0000\"]],\"size\":6,\"symbol\":\"diamond\"},\"mode\":\"markers\",\"name\":\"Above Hull\",\"showlegend\":true,\"x\":[0.8660254037844386,0.8660254037844386,0.8660254037844386,0.8660254037844386,0.8660254037844386,0.8660254037844386,0.8660254037844386,0.0,0.0,0.0,0.0,0.0,0.0,0.0,0.0,0.0,0.28867513459481287,0.28867513459481287,0.28867513459481287,0.28867513459481287,0.28867513459481287,0.28867513459481287,0.28867513459481287,0.28867513459481287,0.28867513459481287,0.28867513459481287,0.28867513459481287,0.4330127018922193,0.4330127018922193,0.36464227527765836,0.0,0.0,0.0,0.0,0.0,0.0,0.4330127018922193,0.4330127018922193,0.4330127018922193,0.4330127018922193,0.4330127018922193,0.5773502691896257,0.5773502691896257,0.5773502691896257,0.0,0.0,0.4330127018922193,0.4330127018922193,0.4330127018922193,0.34641016151377546,0.34641016151377546,0.34641016151377546,0.5196152422706631,0.5196152422706631,0.5196152422706631,0.34641016151377546,0.49487165930539345,0.49487165930539345,0.3711537444790451,0.3711537444790451,0.5051814855409226,0.09622504486493762,0.09622504486493762,0.404145188432738,0.404145188432738,0.511742284054441,0.013323467750529826],\"y\":[0.5,0.5,0.5,0.5,0.5,0.5,0.5,1.0,1.0,1.0,1.0,1.0,1.0,1.0,1.0,1.0,0.8333333333333333,0.8333333333333333,0.8333333333333333,0.8333333333333333,0.8333333333333333,0.8333333333333333,0.8333333333333333,0.8333333333333333,0.8333333333333333,0.8333333333333333,0.8333333333333333,0.75,0.75,0.7894736842105263,0.0,0.0,0.0,0.0,0.0,0.0,0.25,0.25,0.25,0.25,0.25,0.3333333333333333,0.3333333333333333,0.3333333333333333,0.5,0.5,0.5,0.5,0.5,0.6000000000000001,0.6000000000000001,0.6000000000000001,0.3,0.3,0.3,0.2,0.2857142857142857,0.2857142857142857,0.21428571428571427,0.21428571428571427,0.2916666666666667,0.05555555555555555,0.05555555555555555,0.23333333333333334,0.23333333333333334,0.29545454545454547,0.007692307692307693],\"z\":[0.012,0.186,0.03,0.002,0.124,0.126,0.01,0.035,0.004,0.004,0.004,0.052,0.017,0.001,0.003,0.001,-1.248,-1.198,-1.217,-1.257,-1.247,-1.214,-1.179,-1.247,-1.214,-1.262,-1.281,-0.852,-0.875,-1.038,0.036,0.008,0.144,0.037,0.006,0.158,-0.763,-0.79,-0.942,-0.943,-0.771,-0.498,-0.53,-0.519,0.049,0.098,-0.992,-0.983,-0.958,-1.037,-1.048,-1.041,-0.787,-0.828,-0.641,-0.603,-0.832,-0.798,-0.804,-0.706,-0.664,-0.097,-0.029,-0.816,-0.83,-0.667,0.002],\"type\":\"scatter3d\"},{\"error_z\":{\"array\":[0,0,0,0,0,0,0],\"color\":\"darkgray\",\"thickness\":5,\"type\":\"data\",\"width\":10},\"hoverinfo\":\"text\",\"hoverlabel\":{\"font\":{\"size\":14}},\"hovertext\":[\"H<sub>2</sub>O (mp-697111) <br> -1.282 eV/atom\",\"CuO (mp-1692) <br> -0.943 eV/atom\",\"Cu<sub>2</sub>O<sub>3</sub> (mp-771359) <br> -0.833 eV/atom\",\"Cu (mp-30) <br> 0.0 eV/atom\",\"H<sub>2</sub> (mp-24504) <br> 0.0 eV/atom\",\"Cu<sub>2</sub>O (mp-361) <br> -0.644 eV/atom\",\"O<sub>2</sub> (mp-12957) <br> 0.0 eV/atom\"],\"marker\":{\"color\":\"black\",\"line\":{\"color\":\"black\",\"width\":3},\"opacity\":0.8,\"size\":12},\"mode\":\"markers\",\"name\":\"Stable\",\"showlegend\":true,\"x\":[0.28867513459481287,0.4330127018922193,0.5196152422706631,0.0,0.0,0.28867513459481287,0.8660254037844386],\"y\":[0.8333333333333333,0.25,0.3,0.0,1.0,0.16666666666666666,0.5],\"z\":[-1.282,-0.943,-0.833,0.0,0.0,-0.644,0.0],\"type\":\"scatter3d\"}],                        {\"autosize\":true,\"height\":700,\"hovermode\":\"closest\",\"legend\":{\"orientation\":\"h\",\"traceorder\":\"reversed\",\"x\":0.5,\"xanchor\":\"center\",\"y\":0.0,\"yanchor\":\"top\"},\"margin\":{\"b\":10,\"l\":0,\"pad\":0,\"r\":0,\"t\":0},\"paper_bgcolor\":\"rgba(0,0,0,0)\",\"plot_bgcolor\":\"rgba(0,0,0,0)\",\"scene\":{\"annotations\":[{\"align\":\"center\",\"font\":{\"color\":\"#000000\",\"size\":24.0},\"opacity\":1.0,\"showarrow\":false,\"text\":\"Cu\",\"x\":0.0,\"xanchor\":\"right\",\"xshift\":-10,\"y\":0.0,\"yanchor\":\"auto\",\"yshift\":-10,\"z\":-1.153460242875},{\"align\":\"center\",\"font\":{\"color\":\"#000000\",\"size\":24.0},\"opacity\":1.0,\"showarrow\":false,\"text\":\"H\",\"x\":0.0,\"xanchor\":\"right\",\"xshift\":-10,\"y\":1.0,\"yanchor\":\"auto\",\"yshift\":-10,\"z\":-1.153460242875},{\"align\":\"center\",\"font\":{\"color\":\"#000000\",\"size\":24.0},\"opacity\":1.0,\"showarrow\":false,\"text\":\"O\",\"x\":0.8660254037844386,\"xanchor\":\"right\",\"xshift\":-10,\"y\":0.5,\"yanchor\":\"auto\",\"yshift\":-10,\"z\":-1.153460242875},{\"opacity\":0,\"text\":\"\",\"x\":1,\"y\":1,\"z\":0}],\"xaxis\":{\"autorange\":true,\"showaxeslabels\":false,\"showgrid\":false,\"showline\":false,\"showspikes\":false,\"showticklabels\":false,\"ticks\":\"\",\"visible\":false,\"zeroline\":false},\"yaxis\":{\"autorange\":true,\"showaxeslabels\":false,\"showgrid\":false,\"showline\":false,\"showspikes\":false,\"showticklabels\":false,\"ticks\":\"\",\"visible\":false,\"zeroline\":false},\"zaxis\":{\"autorange\":true,\"showaxeslabels\":false,\"showgrid\":false,\"showline\":false,\"showspikes\":false,\"showticklabels\":false,\"ticks\":\"\",\"visible\":false,\"zeroline\":false},\"camera\":{\"center\":{\"x\":-0.1,\"y\":0,\"z\":-0.15},\"eye\":{\"x\":-0.1,\"y\":0,\"z\":2.5},\"projection\":{\"type\":\"orthographic\"}},\"aspectratio\":{\"x\":1.7,\"y\":1.7,\"z\":1.2}},\"showlegend\":true,\"template\":{\"data\":{\"histogram2dcontour\":[{\"type\":\"histogram2dcontour\",\"colorbar\":{\"outlinewidth\":0,\"ticks\":\"\"},\"colorscale\":[[0.0,\"#0d0887\"],[0.1111111111111111,\"#46039f\"],[0.2222222222222222,\"#7201a8\"],[0.3333333333333333,\"#9c179e\"],[0.4444444444444444,\"#bd3786\"],[0.5555555555555556,\"#d8576b\"],[0.6666666666666666,\"#ed7953\"],[0.7777777777777778,\"#fb9f3a\"],[0.8888888888888888,\"#fdca26\"],[1.0,\"#f0f921\"]]}],\"choropleth\":[{\"type\":\"choropleth\",\"colorbar\":{\"outlinewidth\":0,\"ticks\":\"\"}}],\"histogram2d\":[{\"type\":\"histogram2d\",\"colorbar\":{\"outlinewidth\":0,\"ticks\":\"\"},\"colorscale\":[[0.0,\"#0d0887\"],[0.1111111111111111,\"#46039f\"],[0.2222222222222222,\"#7201a8\"],[0.3333333333333333,\"#9c179e\"],[0.4444444444444444,\"#bd3786\"],[0.5555555555555556,\"#d8576b\"],[0.6666666666666666,\"#ed7953\"],[0.7777777777777778,\"#fb9f3a\"],[0.8888888888888888,\"#fdca26\"],[1.0,\"#f0f921\"]]}],\"heatmap\":[{\"type\":\"heatmap\",\"colorbar\":{\"outlinewidth\":0,\"ticks\":\"\"},\"colorscale\":[[0.0,\"#0d0887\"],[0.1111111111111111,\"#46039f\"],[0.2222222222222222,\"#7201a8\"],[0.3333333333333333,\"#9c179e\"],[0.4444444444444444,\"#bd3786\"],[0.5555555555555556,\"#d8576b\"],[0.6666666666666666,\"#ed7953\"],[0.7777777777777778,\"#fb9f3a\"],[0.8888888888888888,\"#fdca26\"],[1.0,\"#f0f921\"]]}],\"heatmapgl\":[{\"type\":\"heatmapgl\",\"colorbar\":{\"outlinewidth\":0,\"ticks\":\"\"},\"colorscale\":[[0.0,\"#0d0887\"],[0.1111111111111111,\"#46039f\"],[0.2222222222222222,\"#7201a8\"],[0.3333333333333333,\"#9c179e\"],[0.4444444444444444,\"#bd3786\"],[0.5555555555555556,\"#d8576b\"],[0.6666666666666666,\"#ed7953\"],[0.7777777777777778,\"#fb9f3a\"],[0.8888888888888888,\"#fdca26\"],[1.0,\"#f0f921\"]]}],\"contourcarpet\":[{\"type\":\"contourcarpet\",\"colorbar\":{\"outlinewidth\":0,\"ticks\":\"\"}}],\"contour\":[{\"type\":\"contour\",\"colorbar\":{\"outlinewidth\":0,\"ticks\":\"\"},\"colorscale\":[[0.0,\"#0d0887\"],[0.1111111111111111,\"#46039f\"],[0.2222222222222222,\"#7201a8\"],[0.3333333333333333,\"#9c179e\"],[0.4444444444444444,\"#bd3786\"],[0.5555555555555556,\"#d8576b\"],[0.6666666666666666,\"#ed7953\"],[0.7777777777777778,\"#fb9f3a\"],[0.8888888888888888,\"#fdca26\"],[1.0,\"#f0f921\"]]}],\"surface\":[{\"type\":\"surface\",\"colorbar\":{\"outlinewidth\":0,\"ticks\":\"\"},\"colorscale\":[[0.0,\"#0d0887\"],[0.1111111111111111,\"#46039f\"],[0.2222222222222222,\"#7201a8\"],[0.3333333333333333,\"#9c179e\"],[0.4444444444444444,\"#bd3786\"],[0.5555555555555556,\"#d8576b\"],[0.6666666666666666,\"#ed7953\"],[0.7777777777777778,\"#fb9f3a\"],[0.8888888888888888,\"#fdca26\"],[1.0,\"#f0f921\"]]}],\"mesh3d\":[{\"type\":\"mesh3d\",\"colorbar\":{\"outlinewidth\":0,\"ticks\":\"\"}}],\"scatter\":[{\"fillpattern\":{\"fillmode\":\"overlay\",\"size\":10,\"solidity\":0.2},\"type\":\"scatter\"}],\"parcoords\":[{\"type\":\"parcoords\",\"line\":{\"colorbar\":{\"outlinewidth\":0,\"ticks\":\"\"}}}],\"scatterpolargl\":[{\"type\":\"scatterpolargl\",\"marker\":{\"colorbar\":{\"outlinewidth\":0,\"ticks\":\"\"}}}],\"bar\":[{\"error_x\":{\"color\":\"#2a3f5f\"},\"error_y\":{\"color\":\"#2a3f5f\"},\"marker\":{\"line\":{\"color\":\"#E5ECF6\",\"width\":0.5},\"pattern\":{\"fillmode\":\"overlay\",\"size\":10,\"solidity\":0.2}},\"type\":\"bar\"}],\"scattergeo\":[{\"type\":\"scattergeo\",\"marker\":{\"colorbar\":{\"outlinewidth\":0,\"ticks\":\"\"}}}],\"scatterpolar\":[{\"type\":\"scatterpolar\",\"marker\":{\"colorbar\":{\"outlinewidth\":0,\"ticks\":\"\"}}}],\"histogram\":[{\"marker\":{\"pattern\":{\"fillmode\":\"overlay\",\"size\":10,\"solidity\":0.2}},\"type\":\"histogram\"}],\"scattergl\":[{\"type\":\"scattergl\",\"marker\":{\"colorbar\":{\"outlinewidth\":0,\"ticks\":\"\"}}}],\"scatter3d\":[{\"type\":\"scatter3d\",\"line\":{\"colorbar\":{\"outlinewidth\":0,\"ticks\":\"\"}},\"marker\":{\"colorbar\":{\"outlinewidth\":0,\"ticks\":\"\"}}}],\"scattermapbox\":[{\"type\":\"scattermapbox\",\"marker\":{\"colorbar\":{\"outlinewidth\":0,\"ticks\":\"\"}}}],\"scatterternary\":[{\"type\":\"scatterternary\",\"marker\":{\"colorbar\":{\"outlinewidth\":0,\"ticks\":\"\"}}}],\"scattercarpet\":[{\"type\":\"scattercarpet\",\"marker\":{\"colorbar\":{\"outlinewidth\":0,\"ticks\":\"\"}}}],\"carpet\":[{\"aaxis\":{\"endlinecolor\":\"#2a3f5f\",\"gridcolor\":\"white\",\"linecolor\":\"white\",\"minorgridcolor\":\"white\",\"startlinecolor\":\"#2a3f5f\"},\"baxis\":{\"endlinecolor\":\"#2a3f5f\",\"gridcolor\":\"white\",\"linecolor\":\"white\",\"minorgridcolor\":\"white\",\"startlinecolor\":\"#2a3f5f\"},\"type\":\"carpet\"}],\"table\":[{\"cells\":{\"fill\":{\"color\":\"#EBF0F8\"},\"line\":{\"color\":\"white\"}},\"header\":{\"fill\":{\"color\":\"#C8D4E3\"},\"line\":{\"color\":\"white\"}},\"type\":\"table\"}],\"barpolar\":[{\"marker\":{\"line\":{\"color\":\"#E5ECF6\",\"width\":0.5},\"pattern\":{\"fillmode\":\"overlay\",\"size\":10,\"solidity\":0.2}},\"type\":\"barpolar\"}],\"pie\":[{\"automargin\":true,\"type\":\"pie\"}]},\"layout\":{\"autotypenumbers\":\"strict\",\"colorway\":[\"#636efa\",\"#EF553B\",\"#00cc96\",\"#ab63fa\",\"#FFA15A\",\"#19d3f3\",\"#FF6692\",\"#B6E880\",\"#FF97FF\",\"#FECB52\"],\"font\":{\"color\":\"#2a3f5f\"},\"hovermode\":\"closest\",\"hoverlabel\":{\"align\":\"left\"},\"paper_bgcolor\":\"white\",\"plot_bgcolor\":\"#E5ECF6\",\"polar\":{\"bgcolor\":\"#E5ECF6\",\"angularaxis\":{\"gridcolor\":\"white\",\"linecolor\":\"white\",\"ticks\":\"\"},\"radialaxis\":{\"gridcolor\":\"white\",\"linecolor\":\"white\",\"ticks\":\"\"}},\"ternary\":{\"bgcolor\":\"#E5ECF6\",\"aaxis\":{\"gridcolor\":\"white\",\"linecolor\":\"white\",\"ticks\":\"\"},\"baxis\":{\"gridcolor\":\"white\",\"linecolor\":\"white\",\"ticks\":\"\"},\"caxis\":{\"gridcolor\":\"white\",\"linecolor\":\"white\",\"ticks\":\"\"}},\"coloraxis\":{\"colorbar\":{\"outlinewidth\":0,\"ticks\":\"\"}},\"colorscale\":{\"sequential\":[[0.0,\"#0d0887\"],[0.1111111111111111,\"#46039f\"],[0.2222222222222222,\"#7201a8\"],[0.3333333333333333,\"#9c179e\"],[0.4444444444444444,\"#bd3786\"],[0.5555555555555556,\"#d8576b\"],[0.6666666666666666,\"#ed7953\"],[0.7777777777777778,\"#fb9f3a\"],[0.8888888888888888,\"#fdca26\"],[1.0,\"#f0f921\"]],\"sequentialminus\":[[0.0,\"#0d0887\"],[0.1111111111111111,\"#46039f\"],[0.2222222222222222,\"#7201a8\"],[0.3333333333333333,\"#9c179e\"],[0.4444444444444444,\"#bd3786\"],[0.5555555555555556,\"#d8576b\"],[0.6666666666666666,\"#ed7953\"],[0.7777777777777778,\"#fb9f3a\"],[0.8888888888888888,\"#fdca26\"],[1.0,\"#f0f921\"]],\"diverging\":[[0,\"#8e0152\"],[0.1,\"#c51b7d\"],[0.2,\"#de77ae\"],[0.3,\"#f1b6da\"],[0.4,\"#fde0ef\"],[0.5,\"#f7f7f7\"],[0.6,\"#e6f5d0\"],[0.7,\"#b8e186\"],[0.8,\"#7fbc41\"],[0.9,\"#4d9221\"],[1,\"#276419\"]]},\"xaxis\":{\"gridcolor\":\"white\",\"linecolor\":\"white\",\"ticks\":\"\",\"title\":{\"standoff\":15},\"zerolinecolor\":\"white\",\"automargin\":true,\"zerolinewidth\":2},\"yaxis\":{\"gridcolor\":\"white\",\"linecolor\":\"white\",\"ticks\":\"\",\"title\":{\"standoff\":15},\"zerolinecolor\":\"white\",\"automargin\":true,\"zerolinewidth\":2},\"scene\":{\"xaxis\":{\"backgroundcolor\":\"#E5ECF6\",\"gridcolor\":\"white\",\"linecolor\":\"white\",\"showbackground\":true,\"ticks\":\"\",\"zerolinecolor\":\"white\",\"gridwidth\":2},\"yaxis\":{\"backgroundcolor\":\"#E5ECF6\",\"gridcolor\":\"white\",\"linecolor\":\"white\",\"showbackground\":true,\"ticks\":\"\",\"zerolinecolor\":\"white\",\"gridwidth\":2},\"zaxis\":{\"backgroundcolor\":\"#E5ECF6\",\"gridcolor\":\"white\",\"linecolor\":\"white\",\"showbackground\":true,\"ticks\":\"\",\"zerolinecolor\":\"white\",\"gridwidth\":2}},\"shapedefaults\":{\"line\":{\"color\":\"#2a3f5f\"}},\"annotationdefaults\":{\"arrowcolor\":\"#2a3f5f\",\"arrowhead\":0,\"arrowwidth\":1},\"geo\":{\"bgcolor\":\"white\",\"landcolor\":\"#E5ECF6\",\"subunitcolor\":\"white\",\"showland\":true,\"showlakes\":true,\"lakecolor\":\"white\"},\"title\":{\"x\":0.05},\"mapbox\":{\"style\":\"light\"}}}},                        {\"responsive\": true}                    ).then(function(){\n",
       "                            \n",
       "var gd = document.getElementById('f4b6373a-6f21-4489-8c95-075cb969192b');\n",
       "var x = new MutationObserver(function (mutations, observer) {{\n",
       "        var display = window.getComputedStyle(gd).display;\n",
       "        if (!display || display === 'none') {{\n",
       "            console.log([gd, 'removed!']);\n",
       "            Plotly.purge(gd);\n",
       "            observer.disconnect();\n",
       "        }}\n",
       "}});\n",
       "\n",
       "// Listen for the removal of the full notebook cells\n",
       "var notebookContainer = gd.closest('#notebook-container');\n",
       "if (notebookContainer) {{\n",
       "    x.observe(notebookContainer, {childList: true});\n",
       "}}\n",
       "\n",
       "// Listen for the clearing of the current output cell\n",
       "var outputEl = gd.closest('.output');\n",
       "if (outputEl) {{\n",
       "    x.observe(outputEl, {childList: true});\n",
       "}}\n",
       "\n",
       "                        })                };                });            </script>        </div>"
      ]
     },
     "metadata": {},
     "output_type": "display_data"
    }
   ],
   "source": [
    "from pymatgen.analysis.phase_diagram import PhaseDiagram, PDPlotter\n",
    "import math\n",
    "\n",
    "mpr = MPRester(MY_API)\n",
    "\n",
    "entries = mpr.get_entries_in_chemsys(['Cu','O','H'])\n",
    "\n",
    "pd = PhaseDiagram(entries)\n",
    "\n",
    "plotter = PDPlotter(pd)\n",
    "plotter.show()  "
   ]
  },
  {
   "cell_type": "markdown",
   "id": "61f21a3b",
   "metadata": {},
   "source": [
    "### 7.\tCreate a Structure of strontium ferrite, mp-510624"
   ]
  },
  {
   "cell_type": "code",
   "execution_count": 55,
   "id": "4a95d2f7",
   "metadata": {
    "scrolled": true
   },
   "outputs": [
    {
     "name": "stdout",
     "output_type": "stream",
     "text": [
      "Full Formula (Sr1 Fe1 O3)\n",
      "Reduced Formula: SrFeO3\n",
      "abc   :   3.913187   3.913187   3.913187\n",
      "angles:  90.000000  90.000000  90.000000\n",
      "pbc   :       True       True       True\n",
      "Sites (5)\n",
      "  #  SP      a    b    c    magmom\n",
      "---  ----  ---  ---  ---  --------\n",
      "  0  Sr    0.5  0.5  0.5    -0.005\n",
      "  1  Fe    0    0    0      -3.97\n",
      "  2  O     0.5  0    0      -0.1\n",
      "  3  O     0    0.5  0      -0.028\n",
      "  4  O     0    0    0.5    -0.019\n"
     ]
    }
   ],
   "source": [
    "structure = mpr.get_structure_by_material_id(\"mp-510624\")\n",
    "print(structure) "
   ]
  },
  {
   "cell_type": "markdown",
   "id": "3158f479",
   "metadata": {},
   "source": [
    "### a) \n",
    "Create a Structure of strontium ferrite, mp-510624. "
   ]
  },
  {
   "cell_type": "code",
   "execution_count": 56,
   "id": "a81f6237",
   "metadata": {},
   "outputs": [
    {
     "name": "stdout",
     "output_type": "stream",
     "text": [
      "[{'pretty_formula': 'SrFeO3', 'density': 5.305698953453972, 'volume': 59.922759697716636, 'structure': Structure Summary\n",
      "Lattice\n",
      "    abc : 3.913187 3.913187 3.913187\n",
      " angles : 90.0 90.0 90.0\n",
      " volume : 59.922759697716636\n",
      "      A : 3.913187 0.0 0.0\n",
      "      B : 0.0 3.913187 0.0\n",
      "      C : 0.0 0.0 3.913187\n",
      "    pbc : True True True\n",
      "PeriodicSite: Sr (1.9566, 1.9566, 1.9566) [0.5000, 0.5000, 0.5000]\n",
      "PeriodicSite: Fe (0.0000, 0.0000, 0.0000) [0.0000, 0.0000, 0.0000]\n",
      "PeriodicSite: O (1.9566, 0.0000, 0.0000) [0.5000, 0.0000, 0.0000]\n",
      "PeriodicSite: O (0.0000, 1.9566, 0.0000) [0.0000, 0.5000, 0.0000]\n",
      "PeriodicSite: O (0.0000, 0.0000, 1.9566) [0.0000, 0.0000, 0.5000]}]\n"
     ]
    }
   ],
   "source": [
    "criteria = {'material_id': \"mp-510624\"}\n",
    "\n",
    "props = [\"pretty_formula\" , \"density\" , \"volume\" ,\"structure\"]\n",
    "\n",
    "data = mpr.query(criteria=criteria , properties=props)\n",
    "print(data)"
   ]
  },
  {
   "cell_type": "markdown",
   "id": "c88fc369",
   "metadata": {},
   "source": [
    "### b)\n",
    "Replace all of the Fe species with Co."
   ]
  },
  {
   "cell_type": "code",
   "execution_count": 57,
   "id": "46173c50",
   "metadata": {},
   "outputs": [
    {
     "name": "stdout",
     "output_type": "stream",
     "text": [
      "[{'density': 5.4879828648204, 'volume': 235.46734734172708}]\n",
      "Full Formula (Sr1 Co1 O3)\n",
      "Reduced Formula: SrCoO3\n",
      "abc   :   3.913187   3.913187   3.913187\n",
      "angles:  90.000000  90.000000  90.000000\n",
      "pbc   :       True       True       True\n",
      "Sites (5)\n",
      "  #  SP      a    b    c    magmom\n",
      "---  ----  ---  ---  ---  --------\n",
      "  0  Sr    0.5  0.5  0.5    -0.005\n",
      "  1  Co    0    0    0      -3.97\n",
      "  2  O     0.5  0    0      -0.1\n",
      "  3  O     0    0.5  0      -0.028\n",
      "  4  O     0    0    0.5    -0.019\n"
     ]
    }
   ],
   "source": [
    "import pymatgen.core as mg\n",
    "structure.replace_species({mg.Element(\"Fe\") : mg.Element(\"Co\")})\n",
    "mid = mpr.get_material_id(\"SrCoO3\")\n",
    "ans = mpr.query({\"material_id\" : mid[0]} , [\"density\" , \"volume\"])\n",
    "\n",
    "print(ans)\n",
    "print(structure)\n"
   ]
  },
  {
   "cell_type": "markdown",
   "id": "ca1aecca",
   "metadata": {},
   "source": [
    "### c)\n",
    "Replace one of Co with an Fe after making supercell of [2,2,2]"
   ]
  },
  {
   "cell_type": "code",
   "execution_count": 58,
   "id": "5a492058",
   "metadata": {},
   "outputs": [],
   "source": [
    "structure.make_supercell(2)"
   ]
  },
  {
   "cell_type": "code",
   "execution_count": 59,
   "id": "8a737761",
   "metadata": {},
   "outputs": [
    {
     "name": "stdout",
     "output_type": "stream",
     "text": [
      "Full Formula (Sr8 Co8 O24)\n",
      "Reduced Formula: SrCoO3\n",
      "abc   :   7.826374   7.826374   7.826374\n",
      "angles:  90.000000  90.000000  90.000000\n",
      "pbc   :       True       True       True\n",
      "Sites (40)\n",
      "  #  SP       a     b     c    magmom\n",
      "---  ----  ----  ----  ----  --------\n",
      "  0  Sr    0.25  0.25  0.25    -0.005\n",
      "  1  Sr    0.25  0.25  0.75    -0.005\n",
      "  2  Sr    0.25  0.75  0.25    -0.005\n",
      "  3  Sr    0.25  0.75  0.75    -0.005\n",
      "  4  Sr    0.75  0.25  0.25    -0.005\n",
      "  5  Sr    0.75  0.25  0.75    -0.005\n",
      "  6  Sr    0.75  0.75  0.25    -0.005\n",
      "  7  Sr    0.75  0.75  0.75    -0.005\n",
      "  8  Co    0     0     0       -3.97\n",
      "  9  Co    0     0     0.5     -3.97\n",
      " 10  Co    0     0.5   0       -3.97\n",
      " 11  Co    0     0.5   0.5     -3.97\n",
      " 12  Co    0.5   0     0       -3.97\n",
      " 13  Co    0.5   0     0.5     -3.97\n",
      " 14  Co    0.5   0.5   0       -3.97\n",
      " 15  Co    0.5   0.5   0.5     -3.97\n",
      " 16  O     0.25  0     0       -0.1\n",
      " 17  O     0.25  0     0.5     -0.1\n",
      " 18  O     0.25  0.5   0       -0.1\n",
      " 19  O     0.25  0.5   0.5     -0.1\n",
      " 20  O     0.75  0     0       -0.1\n",
      " 21  O     0.75  0     0.5     -0.1\n",
      " 22  O     0.75  0.5   0       -0.1\n",
      " 23  O     0.75  0.5   0.5     -0.1\n",
      " 24  O     0     0.25  0       -0.028\n",
      " 25  O     0     0.25  0.5     -0.028\n",
      " 26  O     0     0.75  0       -0.028\n",
      " 27  O     0     0.75  0.5     -0.028\n",
      " 28  O     0.5   0.25  0       -0.028\n",
      " 29  O     0.5   0.25  0.5     -0.028\n",
      " 30  O     0.5   0.75  0       -0.028\n",
      " 31  O     0.5   0.75  0.5     -0.028\n",
      " 32  O     0     0     0.25    -0.019\n",
      " 33  O     0     0     0.75    -0.019\n",
      " 34  O     0     0.5   0.25    -0.019\n",
      " 35  O     0     0.5   0.75    -0.019\n",
      " 36  O     0.5   0     0.25    -0.019\n",
      " 37  O     0.5   0     0.75    -0.019\n",
      " 38  O     0.5   0.5   0.25    -0.019\n",
      " 39  O     0.5   0.5   0.75    -0.019\n"
     ]
    }
   ],
   "source": [
    "print(structure)"
   ]
  },
  {
   "cell_type": "code",
   "execution_count": 60,
   "id": "d1cbc03a",
   "metadata": {},
   "outputs": [],
   "source": [
    "structure.replace(15 , \"Fe\")"
   ]
  },
  {
   "cell_type": "code",
   "execution_count": 61,
   "id": "7b11977c",
   "metadata": {},
   "outputs": [
    {
     "name": "stdout",
     "output_type": "stream",
     "text": [
      "Full Formula (Sr8 Fe1 Co7 O24)\n",
      "Reduced Formula: Sr8FeCo7O24\n",
      "abc   :   7.826374   7.826374   7.826374\n",
      "angles:  90.000000  90.000000  90.000000\n",
      "pbc   :       True       True       True\n",
      "Sites (40)\n",
      "  #  SP       a     b     c    magmom\n",
      "---  ----  ----  ----  ----  --------\n",
      "  0  Sr    0.25  0.25  0.25    -0.005\n",
      "  1  Sr    0.25  0.25  0.75    -0.005\n",
      "  2  Sr    0.25  0.75  0.25    -0.005\n",
      "  3  Sr    0.25  0.75  0.75    -0.005\n",
      "  4  Sr    0.75  0.25  0.25    -0.005\n",
      "  5  Sr    0.75  0.25  0.75    -0.005\n",
      "  6  Sr    0.75  0.75  0.25    -0.005\n",
      "  7  Sr    0.75  0.75  0.75    -0.005\n",
      "  8  Co    0     0     0       -3.97\n",
      "  9  Co    0     0     0.5     -3.97\n",
      " 10  Co    0     0.5   0       -3.97\n",
      " 11  Co    0     0.5   0.5     -3.97\n",
      " 12  Co    0.5   0     0       -3.97\n",
      " 13  Co    0.5   0     0.5     -3.97\n",
      " 14  Co    0.5   0.5   0       -3.97\n",
      " 15  Fe    0.5   0.5   0.5\n",
      " 16  O     0.25  0     0       -0.1\n",
      " 17  O     0.25  0     0.5     -0.1\n",
      " 18  O     0.25  0.5   0       -0.1\n",
      " 19  O     0.25  0.5   0.5     -0.1\n",
      " 20  O     0.75  0     0       -0.1\n",
      " 21  O     0.75  0     0.5     -0.1\n",
      " 22  O     0.75  0.5   0       -0.1\n",
      " 23  O     0.75  0.5   0.5     -0.1\n",
      " 24  O     0     0.25  0       -0.028\n",
      " 25  O     0     0.25  0.5     -0.028\n",
      " 26  O     0     0.75  0       -0.028\n",
      " 27  O     0     0.75  0.5     -0.028\n",
      " 28  O     0.5   0.25  0       -0.028\n",
      " 29  O     0.5   0.25  0.5     -0.028\n",
      " 30  O     0.5   0.75  0       -0.028\n",
      " 31  O     0.5   0.75  0.5     -0.028\n",
      " 32  O     0     0     0.25    -0.019\n",
      " 33  O     0     0     0.75    -0.019\n",
      " 34  O     0     0.5   0.25    -0.019\n",
      " 35  O     0     0.5   0.75    -0.019\n",
      " 36  O     0.5   0     0.25    -0.019\n",
      " 37  O     0.5   0     0.75    -0.019\n",
      " 38  O     0.5   0.5   0.25    -0.019\n",
      " 39  O     0.5   0.5   0.75    -0.019\n"
     ]
    }
   ],
   "source": [
    "print(structure)"
   ]
  },
  {
   "cell_type": "code",
   "execution_count": null,
   "id": "bb9d6768",
   "metadata": {},
   "outputs": [],
   "source": []
  },
  {
   "cell_type": "code",
   "execution_count": null,
   "id": "81047f6e",
   "metadata": {},
   "outputs": [],
   "source": []
  }
 ],
 "metadata": {
  "kernelspec": {
   "display_name": "Python 3 (ipykernel)",
   "language": "python",
   "name": "python3"
  },
  "language_info": {
   "codemirror_mode": {
    "name": "ipython",
    "version": 3
   },
   "file_extension": ".py",
   "mimetype": "text/x-python",
   "name": "python",
   "nbconvert_exporter": "python",
   "pygments_lexer": "ipython3",
   "version": "3.10.4"
  }
 },
 "nbformat": 4,
 "nbformat_minor": 5
}
